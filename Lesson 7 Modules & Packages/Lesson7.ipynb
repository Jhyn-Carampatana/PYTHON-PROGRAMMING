{
 "cells": [
  {
   "cell_type": "markdown",
   "id": "5619a87c-93fe-4315-bec3-6df057d01059",
   "metadata": {},
   "source": [
    "## LESSON 7"
   ]
  },
  {
   "cell_type": "markdown",
   "id": "dc77a14d-f254-4250-8d2f-737b437ffc9a",
   "metadata": {},
   "source": [
    "## Review Exercise 1"
   ]
  },
  {
   "cell_type": "code",
   "execution_count": 1,
   "id": "a2e6736b-33b4-4cb8-8bb3-26df89f0dde7",
   "metadata": {},
   "outputs": [],
   "source": [
    "# 1\n",
    "def greet(name):\n",
    "    print(f\"Hello {name}!\")"
   ]
  },
  {
   "cell_type": "code",
   "execution_count": 4,
   "id": "88cedb70-8a71-42d9-8ee9-f8c663282194",
   "metadata": {},
   "outputs": [
    {
     "name": "stdout",
     "output_type": "stream",
     "text": [
      "Hello Jhyn!\n"
     ]
    }
   ],
   "source": [
    "#2 \n",
    "greet(\"Jhyn\")\n"
   ]
  },
  {
   "cell_type": "markdown",
   "id": "c7033118-d980-4abe-ab8a-f65796da231c",
   "metadata": {},
   "source": [
    "## Review Exercise 2 "
   ]
  },
  {
   "cell_type": "code",
   "execution_count": 17,
   "id": "c0385cc6-bd9c-4a88-bc19-6f5e4d4a13d7",
   "metadata": {},
   "outputs": [
    {
     "name": "stdout",
     "output_type": "stream",
     "text": [
      "Testing shout(): HELLO WORLD\n",
      "Testing area(): 50\n"
     ]
    }
   ],
   "source": [
    "import os\n",
    "\n",
    "\n",
    "os.makedirs(\"package_exercises/helpers\", exist_ok=True)\n",
    "\n",
    "\n",
    "with open(\"package_exercises/helpers/__init__.py\", \"w\") as f:\n",
    "    f.write(\"# helpers package initialization\\n\")\n",
    "\n",
    "\n",
    "with open(\"package_exercises/helpers/string.py\", \"w\") as f:\n",
    "    f.write(\"\"\"\\\n",
    "def shout(text):\n",
    "    \\\"\\\"\\\"Returns the text in uppercase.\\\"\\\"\\\"\n",
    "    return text.upper()\n",
    "\"\"\")\n",
    "\n",
    "\n",
    "with open(\"package_exercises/helpers/math.py\", \"w\") as f:\n",
    "    f.write(\"\"\"\\\n",
    "def area(length, width):\n",
    "    \\\"\\\"\\\"Returns the area computed as length * width.\\\"\\\"\\\"\n",
    "    return length * width\n",
    "\"\"\")\n",
    "\n",
    "from package_exercises.helpers import string, math\n",
    "\n",
    "\n",
    "print(\"Testing shout():\", string.shout(\"hello world\"))\n",
    "\n",
    "print(\"Testing area():\", math.area(5, 10))\n"
   ]
  },
  {
   "cell_type": "code",
   "execution_count": 18,
   "id": "ad8c5425-addf-40e1-9472-de84145bcc9f",
   "metadata": {},
   "outputs": [
    {
     "name": "stdout",
     "output_type": "stream",
     "text": [
      "Running main.py...\n",
      "\n",
      "THE AREA OF A 5-BY-8 RECTANGLE IS 40\n"
     ]
    }
   ],
   "source": [
    "import os\n",
    "import importlib\n",
    "\n",
    "# 1️⃣ Create the folder structure\n",
    "os.makedirs(\"package_exercises/helpers\", exist_ok=True)\n",
    "\n",
    "# 2️⃣ Create __init__.py\n",
    "with open(\"package_exercises/helpers/__init__.py\", \"w\") as f:\n",
    "    f.write(\"# helpers package initialization\\n\")\n",
    "\n",
    "# 3️⃣ Create string.py with shout() function\n",
    "with open(\"package_exercises/helpers/string.py\", \"w\") as f:\n",
    "    f.write(\"\"\"\\\n",
    "def shout(text):\n",
    "    \\\"\\\"\\\"Returns the text in uppercase.\\\"\\\"\\\"\n",
    "    return text.upper()\n",
    "\"\"\")\n",
    "\n",
    "# 4️⃣ Create math.py with area() function\n",
    "with open(\"package_exercises/helpers/math.py\", \"w\") as f:\n",
    "    f.write(\"\"\"\\\n",
    "def area(length, width):\n",
    "    \\\"\\\"\\\"Returns the area computed as length * width.\\\"\\\"\\\"\n",
    "    return length * width\n",
    "\"\"\")\n",
    "\n",
    "# 5️⃣ Create main.py in the root folder\n",
    "with open(\"package_exercises/main.py\", \"w\") as f:\n",
    "    f.write(\"\"\"\\\n",
    "from helpers.string import shout\n",
    "from helpers.math import area\n",
    "\n",
    "# Calculate the area\n",
    "length = 5\n",
    "width = 8\n",
    "result = area(length, width)\n",
    "\n",
    "# Format and print the output\n",
    "message = f\"The area of a {length}-by-{width} rectangle is {result}\"\n",
    "print(shout(message))\n",
    "\"\"\")\n",
    "\n",
    "# 6️⃣ Run main.py\n",
    "print(\"Running main.py...\\n\")\n",
    "%run package_exercises/main.py\n"
   ]
  },
  {
   "cell_type": "code",
   "execution_count": null,
   "id": "b3ccbea7-bfa1-437d-9ee3-8dfa98833a53",
   "metadata": {},
   "outputs": [],
   "source": []
  }
 ],
 "metadata": {
  "kernelspec": {
   "display_name": "Python [conda env:base] *",
   "language": "python",
   "name": "conda-base-py"
  },
  "language_info": {
   "codemirror_mode": {
    "name": "ipython",
    "version": 3
   },
   "file_extension": ".py",
   "mimetype": "text/x-python",
   "name": "python",
   "nbconvert_exporter": "python",
   "pygments_lexer": "ipython3",
   "version": "3.13.5"
  }
 },
 "nbformat": 4,
 "nbformat_minor": 5
}
