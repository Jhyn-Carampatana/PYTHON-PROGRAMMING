{
 "cells": [
  {
   "cell_type": "markdown",
   "id": "264ec052-a77a-4d31-ac76-2f6de3cdbdf6",
   "metadata": {},
   "source": [
    "# Review Question 1 #\n"
   ]
  },
  {
   "cell_type": "code",
   "execution_count": 2,
   "id": "bd49cacf-9f03-4b1a-ab2f-3e59a06792f1",
   "metadata": {},
   "outputs": [
    {
     "name": "stdout",
     "output_type": "stream",
     "text": [
      "25000000\n",
      "25000000\n"
     ]
    }
   ],
   "source": [
    "num1 = 25_000_000\n",
    "num2 = 25000000\n",
    "print(num1)\n",
    "print(num2)"
   ]
  },
  {
   "cell_type": "code",
   "execution_count": 4,
   "id": "acf87973-0115-4f6c-920c-c3c2bfe8a55d",
   "metadata": {},
   "outputs": [
    {
     "name": "stdout",
     "output_type": "stream",
     "text": [
      "175000.0\n"
     ]
    }
   ],
   "source": [
    "num = 1.75e5\n",
    "print(num)"
   ]
  },
  {
   "cell_type": "code",
   "execution_count": 2,
   "id": "996a1638-284f-4d7e-b3dd-d64d0ad43107",
   "metadata": {},
   "outputs": [
    {
     "name": "stdout",
     "output_type": "stream",
     "text": [
      "Smallest N where 2e^N is infinite: 710\n"
     ]
    }
   ],
   "source": [
    "import math\n",
    "\n",
    "N = 1\n",
    "while True:\n",
    "    try:\n",
    "        result = 2 * math.exp(N)\n",
    "        if math.isinf(result):\n",
    "            break\n",
    "        N += 1\n",
    "    except OverflowError:\n",
    "        break\n",
    "\n",
    "print(\"Smallest N where 2e^N is infinite:\", N)"
   ]
  },
  {
   "cell_type": "markdown",
   "id": "187c5cfb-4295-49b6-98d4-859c0a925b3e",
   "metadata": {},
   "source": [
    "# Review Question 2 #"
   ]
  },
  {
   "cell_type": "code",
   "execution_count": 3,
   "id": "364abf37-3454-4a90-bc29-61bae5ea46a1",
   "metadata": {},
   "outputs": [
    {
     "name": "stdin",
     "output_type": "stream",
     "text": [
      "Enter a base:  1.2\n",
      "Enter an exponent:  3\n"
     ]
    },
    {
     "name": "stdout",
     "output_type": "stream",
     "text": [
      "1.2 to the power of 3.0 = 1.7279999999999998\n"
     ]
    }
   ],
   "source": [
    "base = float(input(\"Enter a base: \"))\n",
    "exponent = float(input(\"Enter an exponent: \"))\n",
    "result = base ** exponent\n",
    "print(f\"{base} to the power of {exponent} = {result}\")"
   ]
  },
  {
   "cell_type": "markdown",
   "id": "44b127fd-17d6-4bd4-bbf7-3597102a3c0f",
   "metadata": {},
   "source": [
    "# Review Question 3 #"
   ]
  },
  {
   "cell_type": "code",
   "execution_count": 4,
   "id": "452e9a00-59b7-4c9f-bc6b-10b2e6fe7e5b",
   "metadata": {},
   "outputs": [
    {
     "name": "stdin",
     "output_type": "stream",
     "text": [
      "Enter a number:  5.432\n"
     ]
    },
    {
     "name": "stdout",
     "output_type": "stream",
     "text": [
      "5.432 rounded to 2 decimal places is 5.43\n"
     ]
    }
   ],
   "source": [
    "number = float(input(\"Enter a number: \"))\n",
    "rounded_number = round(number, 2)\n",
    "print(f\"{number} rounded to 2 decimal places is {rounded_number}\")"
   ]
  },
  {
   "cell_type": "code",
   "execution_count": 13,
   "id": "1a886aa0-42c4-42b4-ad27-ab9ee061f2a2",
   "metadata": {},
   "outputs": [
    {
     "name": "stdin",
     "output_type": "stream",
     "text": [
      "Enter a number:  -10\n"
     ]
    },
    {
     "name": "stdout",
     "output_type": "stream",
     "text": [
      "The absolute value of -10.0 is 10.0\n"
     ]
    }
   ],
   "source": [
    "number = float(input(\"Enter a number: \"))\n",
    "absolute_value = abs (number)\n",
    "\n",
    "print(f\"The absolute value of {number} is {absolute_value}\")\n"
   ]
  },
  {
   "cell_type": "markdown",
   "id": "7c685585-672d-4600-a5a8-e0aa022c13cf",
   "metadata": {},
   "source": [
    "# Review Question 4 #"
   ]
  },
  {
   "cell_type": "code",
   "execution_count": 12,
   "id": "36d8155d-bbd0-4559-b10f-2f9a6c33c08b",
   "metadata": {},
   "outputs": [
    {
     "name": "stdin",
     "output_type": "stream",
     "text": [
      "Enter a number:  1.5\n",
      "Enter another number:  1.0\n"
     ]
    },
    {
     "name": "stdout",
     "output_type": "stream",
     "text": [
      "The difference between 1.5 and 1.0 is an integer? False!\n"
     ]
    }
   ],
   "source": [
    "num1 = float(input(\"Enter a number: \"))\n",
    "num2 = float (input(\"Enter another number: \"))\n",
    "\n",
    "difference = num1 - num2\n",
    "is_integer_diff = difference.is_integer()\n",
    "\n",
    "print(f\"The difference between {num1} and {num2} is an integer? {is_integer_diff}!\")"
   ]
  },
  {
   "cell_type": "markdown",
   "id": "83a2f2b7-3de2-4ba6-bb73-ef608a1ff191",
   "metadata": {},
   "source": [
    "# Review Question 5 #"
   ]
  },
  {
   "cell_type": "code",
   "execution_count": 14,
   "id": "d45e6923-9508-4ea6-82a9-f88508f809f3",
   "metadata": {},
   "outputs": [
    {
     "name": "stdout",
     "output_type": "stream",
     "text": [
      "1.147\n"
     ]
    }
   ],
   "source": [
    "result1 = 3 ** 0.125\n",
    "print(f\"{result1:.3f}\")"
   ]
  },
  {
   "cell_type": "code",
   "execution_count": 15,
   "id": "792ba24e-5f21-423d-8eb0-f8b23d276925",
   "metadata": {},
   "outputs": [
    {
     "name": "stdout",
     "output_type": "stream",
     "text": [
      "$150,000.00\n"
     ]
    }
   ],
   "source": [
    "amount = 150000\n",
    "print(f\"${amount:,.2f}\")"
   ]
  },
  {
   "cell_type": "code",
   "execution_count": 16,
   "id": "5cd80ded-7d95-4a6c-9c5e-6af637679915",
   "metadata": {},
   "outputs": [
    {
     "name": "stdout",
     "output_type": "stream",
     "text": [
      "20%\n"
     ]
    }
   ],
   "source": [
    "percentage = 2 / 10\n",
    "print(f\"{percentage:.0%}\")"
   ]
  },
  {
   "cell_type": "code",
   "execution_count": null,
   "id": "b7013e7c-dcea-4104-b45c-eba7eb895b22",
   "metadata": {},
   "outputs": [],
   "source": []
  }
 ],
 "metadata": {
  "kernelspec": {
   "display_name": "Python 3 (ipykernel)",
   "language": "python",
   "name": "python3"
  },
  "language_info": {
   "codemirror_mode": {
    "name": "ipython",
    "version": 3
   },
   "file_extension": ".py",
   "mimetype": "text/x-python",
   "name": "python",
   "nbconvert_exporter": "python",
   "pygments_lexer": "ipython3",
   "version": "3.13.5"
  }
 },
 "nbformat": 4,
 "nbformat_minor": 5
}
