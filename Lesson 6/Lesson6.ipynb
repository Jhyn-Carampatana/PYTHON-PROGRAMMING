{
 "cells": [
  {
   "cell_type": "markdown",
   "id": "397051a8-e21f-4e88-8d43-07a39ad6aef1",
   "metadata": {},
   "source": [
    "## LESSON 6 #"
   ]
  },
  {
   "cell_type": "markdown",
   "id": "5eb32069-62ac-434f-adac-5cdc5aa9ba3e",
   "metadata": {},
   "source": [
    "## REVIEW EXERCISES 1"
   ]
  },
  {
   "cell_type": "code",
   "execution_count": 1,
   "id": "cce1638f-d724-466c-84bf-522cd2b212e6",
   "metadata": {},
   "outputs": [
    {
     "name": "stdout",
     "output_type": "stream",
     "text": [
      "Philo's coat is brown.\n"
     ]
    }
   ],
   "source": [
    "#1\n",
    "class Dog:\n",
    "    def __init__(self, name, age, coat_color):\n",
    "        self.name = name\n",
    "        self.age = age\n",
    "        self.coat_color = coat_color\n",
    "\n",
    "philo = Dog(\"Philo\", 5, \"brown\")\n",
    "\n",
    "print(f\"{philo.name}'s coat is {philo.coat_color}.\")\n"
   ]
  },
  {
   "cell_type": "code",
   "execution_count": 2,
   "id": "769f1178-402f-4724-a52f-0e390364e6e2",
   "metadata": {},
   "outputs": [
    {
     "name": "stdout",
     "output_type": "stream",
     "text": [
      "The blue car has 20,000 miles.\n",
      "The red car has 30,000 miles.\n"
     ]
    }
   ],
   "source": [
    "#2\n",
    "class Car:\n",
    "    def __init__(self, color, mileage):\n",
    "        self.color = color\n",
    "        self.mileage = mileage\n",
    "\n",
    "blue_car = Car(\"blue\", 20000)\n",
    "red_car = Car(\"red\", 30000)\n",
    "\n",
    "print(f\"The {blue_car.color} car has {blue_car.mileage:,} miles.\")\n",
    "print(f\"The {red_car.color} car has {red_car.mileage:,} miles.\")\n"
   ]
  },
  {
   "cell_type": "code",
   "execution_count": 3,
   "id": "f0da4b20-9c75-4519-9e08-5ccb437b3e7f",
   "metadata": {},
   "outputs": [
    {
     "name": "stdout",
     "output_type": "stream",
     "text": [
      "The car has 100 miles.\n"
     ]
    }
   ],
   "source": [
    "#3\n",
    "class Car:\n",
    "    def __init__(self, color, mileage):\n",
    "        self.color = color\n",
    "        self.mileage = mileage\n",
    "\n",
    "    def drive(self, miles):\n",
    "        self.mileage += miles\n",
    "\n",
    "# Test the solution\n",
    "my_car = Car(\"black\", 0)   \n",
    "my_car.drive(100)      \n",
    "\n",
    "print(f\"The car has {my_car.mileage} miles.\")\n"
   ]
  },
  {
   "cell_type": "markdown",
   "id": "970cd8f1-b535-4e39-a467-92f3f4c74c0c",
   "metadata": {},
   "source": [
    "## REVIEW EXERCISES 2 "
   ]
  },
  {
   "cell_type": "code",
   "execution_count": 4,
   "id": "8abe67d2-520d-461f-8bc3-10e3eeacdc45",
   "metadata": {},
   "outputs": [
    {
     "name": "stdout",
     "output_type": "stream",
     "text": [
      "Buddy is 3 years old\n",
      "Buddy says Bark\n",
      "Buddy says Woof\n"
     ]
    }
   ],
   "source": [
    "#1\n",
    "class Dog:\n",
    "    species = \"Canis familiaris\"\n",
    "\n",
    "    def __init__(self, name, age):\n",
    "        self.name = name\n",
    "        self.age = age\n",
    "\n",
    "    def __str__(self):\n",
    "        return f\"{self.name} is {self.age} years old\"\n",
    "\n",
    "    def speak(self, sound):\n",
    "        return f\"{self.name} says {sound}\"\n",
    "\n",
    "\n",
    "class GoldenRetriever(Dog):\n",
    "    def speak(self, sound=\"Bark\"):\n",
    "        return super().speak(sound)\n",
    "\n",
    "\n",
    "golden = GoldenRetriever(\"Buddy\", 3)\n",
    "\n",
    "print(golden)                 \n",
    "print(golden.speak())         \n",
    "print(golden.speak(\"Woof\"))   \n"
   ]
  },
  {
   "cell_type": "code",
   "execution_count": 5,
   "id": "95ef996d-38da-4773-971b-203ba505bb93",
   "metadata": {},
   "outputs": [
    {
     "name": "stdout",
     "output_type": "stream",
     "text": [
      "Area of the square: 16\n"
     ]
    }
   ],
   "source": [
    "#2\n",
    "class Rectangle:\n",
    "    def __init__(self, length, width):\n",
    "        self.length = length\n",
    "        self.width = width\n",
    "\n",
    "    def area(self):\n",
    "        return self.length * self.width\n",
    "\n",
    "\n",
    "class Square(Rectangle):\n",
    "    def __init__(self, side_length):\n",
    "        super().__init__(side_length, side_length)\n",
    "\n",
    "\n",
    "square = Square(4)\n",
    "print(\"Area of the square:\", square.area())\n"
   ]
  },
  {
   "cell_type": "markdown",
   "id": "c887ef33-e4a8-48e9-8942-2ae5d3d8a785",
   "metadata": {},
   "source": [
    "## CHALLENGE: MODEL A FARM"
   ]
  },
  {
   "cell_type": "code",
   "execution_count": 6,
   "id": "4c84bf93-3393-4644-b3d6-dc3bb9e30053",
   "metadata": {},
   "outputs": [
    {
     "name": "stdout",
     "output_type": "stream",
     "text": [
      "Buddy says Woof!\n",
      "Whiskers says Meow!\n",
      "Tweety says Tweet!\n"
     ]
    }
   ],
   "source": [
    "#1\n",
    "class Animal:\n",
    "    def __init__(self, name):\n",
    "        self.name = name\n",
    "\n",
    "    def speak(self):\n",
    "        return f\"{self.name} makes a sound.\"\n",
    "\n",
    "class Dog(Animal):\n",
    "    def speak(self):\n",
    "        return f\"{self.name} says Woof!\"\n",
    "\n",
    "class Cat(Animal):\n",
    "    def speak(self):\n",
    "        return f\"{self.name} says Meow!\"\n",
    "\n",
    "class Bird(Animal):\n",
    "    def speak(self):\n",
    "        return f\"{self.name} says Tweet!\"\n",
    "\n",
    "\n",
    "dog = Dog(\"Buddy\")\n",
    "cat = Cat(\"Whiskers\")\n",
    "bird = Bird(\"Tweety\")\n",
    "\n",
    "print(dog.speak())\n",
    "print(cat.speak())\n",
    "print(bird.speak())\n"
   ]
  },
  {
   "cell_type": "code",
   "execution_count": 7,
   "id": "88852b51-3ecd-4ee7-a93e-6630ed84d44e",
   "metadata": {},
   "outputs": [
    {
     "name": "stdout",
     "output_type": "stream",
     "text": [
      "Buddy is walking.\n",
      "Buddy is running.\n",
      "Buddy is eating.\n",
      "Buddy is sleeping.\n",
      "Whiskers is walking.\n",
      "Whiskers is running.\n",
      "Whiskers is eating.\n",
      "Whiskers is sleeping.\n"
     ]
    }
   ],
   "source": [
    "#2\n",
    "class Animal:\n",
    "    def __init__(self, name, species):\n",
    "        self.name = name\n",
    "        self.species = species\n",
    "\n",
    "    def walk(self):\n",
    "        print(f\"{self.name} is walking.\")\n",
    "\n",
    "    def run(self):\n",
    "        print(f\"{self.name} is running.\")\n",
    "\n",
    "    def eat(self):\n",
    "        print(f\"{self.name} is eating.\")\n",
    "\n",
    "    def sleep(self):\n",
    "        print(f\"{self.name} is sleeping.\")\n",
    "\n",
    "\n",
    "\n",
    "dog = Animal(\"Buddy\", \"Dog\")\n",
    "cat = Animal(\"Whiskers\", \"Cat\")\n",
    "\n",
    "dog.walk()\n",
    "dog.run()\n",
    "dog.eat()\n",
    "dog.sleep()\n",
    "\n",
    "cat.walk()\n",
    "cat.run()\n",
    "cat.eat()\n",
    "cat.sleep()\n"
   ]
  },
  {
   "cell_type": "code",
   "execution_count": 8,
   "id": "76ce9735-6d64-435d-829c-59db2dd7286c",
   "metadata": {},
   "outputs": [
    {
     "name": "stdout",
     "output_type": "stream",
     "text": [
      "Buddy is a Dog.\n",
      "Buddy is walking.\n",
      "Buddy barks.\n",
      "Whiskers is a Cat.\n",
      "Whiskers is running.\n",
      "Whiskers is scratching.\n"
     ]
    }
   ],
   "source": [
    "#3\n",
    "class Animal:\n",
    "    def __init__(self, name, species):\n",
    "        self.name = name\n",
    "        self.species = species\n",
    "\n",
    "    def walk(self):\n",
    "        print(f\"{self.name} is walking.\")\n",
    "\n",
    "    def run(self):\n",
    "        print(f\"{self.name} is running.\")\n",
    "\n",
    "    def eat(self):\n",
    "        print(f\"{self.name} is eating.\")\n",
    "\n",
    "    def sleep(self):\n",
    "        print(f\"{self.name} is sleeping.\")\n",
    "\n",
    "    def details(self):\n",
    "        print(f\"{self.name} is a {self.species}.\")\n",
    "\n",
    "class Dog(Animal):\n",
    "    def __init__(self, name):\n",
    "        super().__init__(name, \"Dog\")\n",
    "\n",
    "    def bark(self):\n",
    "        print(f\"{self.name} barks.\")\n",
    "\n",
    "    def fetch(self):\n",
    "        print(f\"{self.name} is fetching.\")\n",
    "\n",
    "\n",
    "class Cat(Animal):\n",
    "    def __init__(self, name):\n",
    "        super().__init__(name, \"Cat\")\n",
    "\n",
    "    def meow(self):\n",
    "        print(f\"{self.name} meows.\")\n",
    "\n",
    "    def scratch(self):\n",
    "        print(f\"{self.name} is scratching.\")\n",
    "\n",
    "\n",
    "dog = Dog(\"Buddy\")\n",
    "cat = Cat(\"Whiskers\")\n",
    "\n",
    "dog.details()\n",
    "dog.walk()\n",
    "dog.bark()\n",
    "\n",
    "cat.details()\n",
    "cat.run()\n",
    "cat.scratch()\n"
   ]
  },
  {
   "cell_type": "code",
   "execution_count": null,
   "id": "181eb8f7-31fd-4b2c-9265-4333ff771c34",
   "metadata": {},
   "outputs": [],
   "source": []
  }
 ],
 "metadata": {
  "kernelspec": {
   "display_name": "Python [conda env:base] *",
   "language": "python",
   "name": "conda-base-py"
  },
  "language_info": {
   "codemirror_mode": {
    "name": "ipython",
    "version": 3
   },
   "file_extension": ".py",
   "mimetype": "text/x-python",
   "name": "python",
   "nbconvert_exporter": "python",
   "pygments_lexer": "ipython3",
   "version": "3.13.5"
  }
 },
 "nbformat": 4,
 "nbformat_minor": 5
}
