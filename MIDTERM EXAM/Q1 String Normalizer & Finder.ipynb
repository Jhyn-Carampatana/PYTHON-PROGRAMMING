{
 "cells": [
  {
   "cell_type": "markdown",
   "id": "c77fe7ac-8ccf-4fd1-a5e0-1eb4b2ce9d5e",
   "metadata": {},
   "source": [
    "## Q1 String Normalizer & finder"
   ]
  },
  {
   "cell_type": "markdown",
   "id": "340a1821-89ca-40ff-bc4f-d3ed9364a922",
   "metadata": {},
   "source": [
    "## Prompt"
   ]
  },
  {
   "cell_type": "markdown",
   "id": "331a26fb-5363-4f36-9552-81aeab2cf433",
   "metadata": {},
   "source": [
    "Write a Python function normalize_and_find(text: str, needle: str) -> int that:\n",
    "(1) trims whitespace on both ends,\n",
    "(2) converts to lowercase,\n",
    "(3) returns the index of the first occurrence of needle using a safe search (return -1 if not found).\n",
    "Discuss find vs. index and how they differ in handling missing substrings.\n",
    "Include a short test.\n",
    "\n"
   ]
  },
  {
   "cell_type": "markdown",
   "id": "4e3ab6b5-c897-46cd-b6e6-bee5392ad6f8",
   "metadata": {},
   "source": [
    "## CHATGPT CODE"
   ]
  },
  {
   "cell_type": "code",
   "execution_count": 2,
   "id": "ce91e93f-80ed-4059-8c16-60c7f6d451a5",
   "metadata": {},
   "outputs": [
    {
     "name": "stdout",
     "output_type": "stream",
     "text": [
      "6\n",
      "-1\n"
     ]
    }
   ],
   "source": [
    "def normalize_and_find(text: str, needle: str) -> int:\n",
    "    text = text.strip().lower()\n",
    "    needle = needle.lower()\n",
    "    return text.find(needle)\n",
    "\n",
    "# Example test\n",
    "print(normalize_and_find(\"   Hello World   \", \"world\"))  # Expected output: 6\n",
    "print(normalize_and_find(\"Python\", \"java\"))  # Expected output: -1\n"
   ]
  },
  {
   "cell_type": "markdown",
   "id": "830a59bc-2c48-4754-b0cb-11f9e65fc4b0",
   "metadata": {},
   "source": [
    "## Critique"
   ]
  },
  {
   "cell_type": "markdown",
   "id": "fa680a22-91aa-4e51-bde1-c57c019c3e3b",
   "metadata": {},
   "source": [
    "Correctness:\n",
    "The function correctly trims whitespace and converts both strings to lowercase before searching.\n",
    "Uses .find() which safely returns -1 if not found (avoiding exceptions).\n",
    "Meets all requirements of the task.\n",
    "⏱ Time & Space Complexity:\n",
    ".strip() and .lower() each run in O(n) time (linear in text length).\n",
    "Space complexity is O(n) due to creation of lowercase and stripped copies (strings are immutable).\n",
    "🧩 Robustness:\n",
    "Handles empty strings and case differences gracefully.\n",
    "No crash on missing substrings.\n",
    "Readability / Style:\n",
    "Simple and clean, but could use a docstring and clearer variable names.\n",
    " Faithfulness to Lecture:\n",
    "Demonstrates use of .strip(), .lower(), and .find() as taught in our string methods discussion.\n"
   ]
  },
  {
   "cell_type": "markdown",
   "id": "07eabe14-fe58-4331-a042-2e5afadd4f2b",
   "metadata": {},
   "source": [
    "## Improved Code"
   ]
  },
  {
   "cell_type": "code",
   "execution_count": 3,
   "id": "3ad01b4d-3aa6-4f58-9ef8-ca108748a9ef",
   "metadata": {},
   "outputs": [
    {
     "name": "stdout",
     "output_type": "stream",
     "text": [
      "All tests passed!\n"
     ]
    }
   ],
   "source": [
    "def normalize_and_find(text: str, needle: str) -> int:\n",
    "    \"\"\"\n",
    "    Normalize the input text by stripping whitespace and converting to lowercase,\n",
    "    then return the index of the first occurrence of `needle`.\n",
    "    Returns -1 if `needle` is not found.\n",
    "\n",
    "    Args:\n",
    "        text (str): The main string to search.\n",
    "        needle (str): The substring to find.\n",
    "\n",
    "    Returns:\n",
    "        int: The index of the first occurrence or -1 if not found.\n",
    "    \"\"\"\n",
    "    if not isinstance(text, str) or not isinstance(needle, str):\n",
    "        raise TypeError(\"Both text and needle must be strings.\")\n",
    "\n",
    "    normalized = text.strip().lower()\n",
    "    target = needle.lower()\n",
    "\n",
    "    index = normalized.find(target)\n",
    "    return index\n",
    "\n",
    "\n",
    "# ✅ Tests\n",
    "if __name__ == \"__main__\":\n",
    "    assert normalize_and_find(\"   Hello World   \", \"world\") == 6\n",
    "    assert normalize_and_find(\"Python\", \"java\") == -1\n",
    "    assert normalize_and_find(\"  ChatGPT ChatGPT \", \"chat\") == 0\n",
    "    assert normalize_and_find(\"\", \"anything\") == -1\n",
    "    print(\"All tests passed!\")\n"
   ]
  },
  {
   "cell_type": "markdown",
   "id": "5848ead2-aef0-44a5-b159-499fb0caf185",
   "metadata": {},
   "source": [
    "Discussion: find() vs. index()\n",
    "Method\tBehavior\tExample\n",
    "find()\tReturns -1 if substring not found (safe, no error).\t\"abc\".find(\"z\") → -1\n",
    "index()\tRaises ValueError if substring not found.\t\"abc\".index(\"z\") → ValueError\n",
    "\n",
    "Conclusion:\n",
    "Using .find() ensures the function never crashes on missing substrings — safer and better for general-purpose searching."
   ]
  },
  {
   "cell_type": "code",
   "execution_count": null,
   "id": "ddf58f7e-2cdb-4cd5-a8d9-28b5e640ec1b",
   "metadata": {},
   "outputs": [],
   "source": []
  }
 ],
 "metadata": {
  "kernelspec": {
   "display_name": "Python [conda env:base] *",
   "language": "python",
   "name": "conda-base-py"
  },
  "language_info": {
   "codemirror_mode": {
    "name": "ipython",
    "version": 3
   },
   "file_extension": ".py",
   "mimetype": "text/x-python",
   "name": "python",
   "nbconvert_exporter": "python",
   "pygments_lexer": "ipython3",
   "version": "3.13.5"
  }
 },
 "nbformat": 4,
 "nbformat_minor": 5
}
