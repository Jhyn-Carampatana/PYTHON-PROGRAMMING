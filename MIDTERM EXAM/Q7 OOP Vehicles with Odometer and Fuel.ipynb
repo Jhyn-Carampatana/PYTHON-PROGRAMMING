{
 "cells": [
  {
   "cell_type": "markdown",
   "id": "ef9553ea-fdd7-47f5-87bf-297ce9d3a385",
   "metadata": {},
   "source": [
    "## Q7 OOP: Vehicles with Odometer and Fuel."
   ]
  },
  {
   "cell_type": "markdown",
   "id": "68e01663-4d9d-4268-8982-e3911c675704",
   "metadata": {},
   "source": [
    "## Prompt"
   ]
  },
  {
   "cell_type": "markdown",
   "id": "aacbff3b-0119-445a-9aa1-e06a717d6507",
   "metadata": {},
   "source": [
    "Create a base class Vehicle with attributes: color, mileage, and fuel_liters.\n",
    "Add methods: drive(km, km_per_liter) and refuel(liters).\n",
    "Subclass it into Car and Truck, where Truck overrides drive() (less fuel efficient).\n",
    "Show how inheritance avoids duplication.\n",
    "Include a simple test."
   ]
  },
  {
   "cell_type": "markdown",
   "id": "ca76e9ee-6138-4d04-b98f-39217b10110f",
   "metadata": {},
   "source": [
    "## CHATGPT CODE"
   ]
  },
  {
   "cell_type": "code",
   "execution_count": 1,
   "id": "aec0743c-a845-4f40-ac69-7cac566ec64c",
   "metadata": {},
   "outputs": [
    {
     "name": "stdout",
     "output_type": "stream",
     "text": [
      "40.0\n",
      "88.0\n"
     ]
    }
   ],
   "source": [
    "class Vehicle:\n",
    "    def __init__(self, color, mileage, fuel_liters):\n",
    "        self.color = color\n",
    "        self.mileage = mileage\n",
    "        self.fuel_liters = fuel_liters\n",
    "\n",
    "    def drive(self, km, km_per_liter):\n",
    "        fuel_needed = km / km_per_liter\n",
    "        if fuel_needed > self.fuel_liters:\n",
    "            print(\"Not enough fuel!\")\n",
    "        else:\n",
    "            self.mileage += km\n",
    "            self.fuel_liters -= fuel_needed\n",
    "\n",
    "    def refuel(self, liters):\n",
    "        self.fuel_liters += liters\n",
    "\n",
    "\n",
    "class Car(Vehicle):\n",
    "    pass\n",
    "\n",
    "\n",
    "class Truck(Vehicle):\n",
    "    def drive(self, km, km_per_liter):\n",
    "        # Trucks consume 20% more fuel\n",
    "        fuel_needed = (km / km_per_liter) * 1.2\n",
    "        if fuel_needed > self.fuel_liters:\n",
    "            print(\"Not enough fuel for the truck!\")\n",
    "        else:\n",
    "            self.mileage += km\n",
    "            self.fuel_liters -= fuel_needed\n",
    "\n",
    "\n",
    "# Example\n",
    "car = Car(\"red\", 10000, 50)\n",
    "truck = Truck(\"blue\", 20000, 100)\n",
    "\n",
    "car.drive(100, 10)\n",
    "truck.drive(100, 10)\n",
    "\n",
    "print(car.fuel_liters)\n",
    "print(truck.fuel_liters)\n"
   ]
  },
  {
   "cell_type": "markdown",
   "id": "dda5ee5b-5346-4d5d-9a53-af1bcf233cee",
   "metadata": {},
   "source": [
    "## Critqiue"
   ]
  },
  {
   "cell_type": "markdown",
   "id": "7eae5abb-e14e-4cbf-93a8-8e8ff4ecff02",
   "metadata": {},
   "source": [
    "Correctness:\n",
    "\n",
    "Base and derived classes implemented correctly.\n",
    "\n",
    "Demonstrates inheritance (Car inherits from Vehicle).\n",
    "\n",
    "Truck properly overrides drive() method.\n",
    "\n",
    "Time & Complexity:\n",
    "\n",
    "Constant-time operations per method → O(1).\n",
    "\n",
    " Robustness:\n",
    "\n",
    "Doesn’t prevent negative fuel or over-refueling.\n",
    "\n",
    "Missing type hints and docstrings.\n",
    "\n",
    "Doesn’t handle zero/negative distance cases safely.\n",
    "\n",
    " Readability / Style:\n",
    "\n",
    "Simple and readable.\n",
    "\n",
    "Could improve naming consistency and add formatted output.\n",
    "\n",
    " Faithfulness to Lecture:\n",
    "\n",
    "Correctly shows inheritance and method overriding (core OOP topic).\n",
    "\n",
    "Matches lecture example of avoiding duplication via base class."
   ]
  },
  {
   "cell_type": "markdown",
   "id": "5a80ef6c-9857-484b-a553-703eec7ea303",
   "metadata": {},
   "source": [
    "## Improved Code"
   ]
  },
  {
   "cell_type": "code",
   "execution_count": 2,
   "id": "de2bd7a2-cbea-475d-9166-9310b5d12c03",
   "metadata": {},
   "outputs": [
    {
     "name": "stdout",
     "output_type": "stream",
     "text": [
      "🚗 Vehicle Inheritance Demo\n",
      "\n",
      "🚗 Drove 100 km. Remaining fuel: 30.00 L\n",
      "🚚 Truck drove 100 km. Remaining fuel: 88.00 L\n",
      "⛽ Refueled 20.00 L. Total fuel: 50.00 L\n",
      "⛽ Refueled 30.00 L. Total fuel: 118.00 L\n",
      "\n",
      "Car mileage: 15100 km, fuel left: 50.00 L\n",
      "Truck mileage: 30100 km, fuel left: 118.00 L\n"
     ]
    }
   ],
   "source": [
    "class Vehicle:\n",
    "    \"\"\"\n",
    "    Base class representing a generic vehicle.\n",
    "\n",
    "    Attributes:\n",
    "        color (str): Vehicle color.\n",
    "        mileage (float): Total distance traveled.\n",
    "        fuel_liters (float): Current fuel amount.\n",
    "    \"\"\"\n",
    "    def __init__(self, color: str, mileage: float, fuel_liters: float) -> None:\n",
    "        self.color = color\n",
    "        self.mileage = mileage\n",
    "        self.fuel_liters = fuel_liters\n",
    "\n",
    "    def drive(self, km: float, km_per_liter: float) -> None:\n",
    "        \"\"\"Drive the vehicle if enough fuel is available.\"\"\"\n",
    "        if km <= 0 or km_per_liter <= 0:\n",
    "            print(\"Distance and efficiency must be positive values.\")\n",
    "            return\n",
    "\n",
    "        fuel_needed = km / km_per_liter\n",
    "        if fuel_needed > self.fuel_liters:\n",
    "            print(\"Not enough fuel to drive that far.\")\n",
    "            return\n",
    "\n",
    "        self.mileage += km\n",
    "        self.fuel_liters -= fuel_needed\n",
    "        print(f\"🚗 Drove {km} km. Remaining fuel: {self.fuel_liters:.2f} L\")\n",
    "\n",
    "    def refuel(self, liters: float) -> None:\n",
    "        \"\"\"Add fuel to the vehicle.\"\"\"\n",
    "        if liters <= 0:\n",
    "            print(\"Cannot refuel with zero or negative liters.\")\n",
    "            return\n",
    "        self.fuel_liters += liters\n",
    "        print(f\"⛽ Refueled {liters:.2f} L. Total fuel: {self.fuel_liters:.2f} L\")\n",
    "\n",
    "\n",
    "class Car(Vehicle):\n",
    "    \"\"\"A regular car that inherits from Vehicle.\"\"\"\n",
    "    pass\n",
    "\n",
    "\n",
    "class Truck(Vehicle):\n",
    "    \"\"\"A truck that consumes 20% more fuel than a regular vehicle.\"\"\"\n",
    "    def drive(self, km: float, km_per_liter: float) -> None:\n",
    "        \"\"\"Override drive() for higher fuel consumption.\"\"\"\n",
    "        if km <= 0 or km_per_liter <= 0:\n",
    "            print(\"Distance and efficiency must be positive values.\")\n",
    "            return\n",
    "\n",
    "        fuel_needed = (km / km_per_liter) * 1.2  # 20% less efficient\n",
    "        if fuel_needed > self.fuel_liters:\n",
    "            print(\"🚚 Not enough fuel for the truck!\")\n",
    "            return\n",
    "\n",
    "        self.mileage += km\n",
    "        self.fuel_liters -= fuel_needed\n",
    "        print(f\"🚚 Truck drove {km} km. Remaining fuel: {self.fuel_liters:.2f} L\")\n",
    "\n",
    "\n",
    "def main() -> None:\n",
    "    \"\"\"Demonstrate inheritance and method overriding.\"\"\"\n",
    "    print(\"🚗 Vehicle Inheritance Demo\\n\")\n",
    "\n",
    "    car = Car(\"Red\", 15000, 40)\n",
    "    truck = Truck(\"Blue\", 30000, 100)\n",
    "\n",
    "    car.drive(100, 10)     # consumes 10 L\n",
    "    truck.drive(100, 10)   # consumes 12 L (20% more)\n",
    "    car.refuel(20)\n",
    "    truck.refuel(30)\n",
    "\n",
    "    print(f\"\\nCar mileage: {car.mileage} km, fuel left: {car.fuel_liters:.2f} L\")\n",
    "    print(f\"Truck mileage: {truck.mileage} km, fuel left: {truck.fuel_liters:.2f} L\")\n",
    "\n",
    "\n",
    "if __name__ == \"__main__\":\n",
    "    main()\n"
   ]
  },
  {
   "cell_type": "markdown",
   "id": "d8bb1d17-6df1-4030-a4c8-79988e5db187",
   "metadata": {},
   "source": [
    "Discussion\n",
    "Inheritance:\n",
    "Car and Truck both inherit color, mileage, and fuel_liters attributes from Vehicle.\n",
    "This avoids duplicating common logic.\n",
    "\n",
    "Method Overriding:\n",
    "Truck.drive() overrides the parent method to simulate lower efficiency (20% more fuel).\n",
    "\n",
    "Encapsulation:\n",
    "Methods control access and updates to object state (mileage, fuel_liters).\n",
    "\n",
    "Complexity:\n",
    "All methods are O(1) time and space — no loops over collections.\n",
    "\n",
    "Faithfulness:\n",
    "Perfectly demonstrates inheritance, method overriding, and instance behavior from OOP lectures."
   ]
  },
  {
   "cell_type": "code",
   "execution_count": null,
   "id": "8657bc44-e438-4fba-950a-f91d5751b5e1",
   "metadata": {},
   "outputs": [],
   "source": []
  }
 ],
 "metadata": {
  "kernelspec": {
   "display_name": "Python [conda env:base] *",
   "language": "python",
   "name": "conda-base-py"
  },
  "language_info": {
   "codemirror_mode": {
    "name": "ipython",
    "version": 3
   },
   "file_extension": ".py",
   "mimetype": "text/x-python",
   "name": "python",
   "nbconvert_exporter": "python",
   "pygments_lexer": "ipython3",
   "version": "3.13.5"
  }
 },
 "nbformat": 4,
 "nbformat_minor": 5
}
