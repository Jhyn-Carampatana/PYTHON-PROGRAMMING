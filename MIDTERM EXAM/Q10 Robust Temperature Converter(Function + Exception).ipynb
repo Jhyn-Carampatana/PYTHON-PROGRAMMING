{
 "cells": [
  {
   "cell_type": "markdown",
   "id": "f446532d-5746-4e69-bf89-08b912c7ab14",
   "metadata": {},
   "source": [
    "## Q10 Robust Temperature Converter(Function + Exception)"
   ]
  },
  {
   "cell_type": "markdown",
   "id": "f0868506-c774-497a-97c0-110710c79e20",
   "metadata": {},
   "source": [
    "## Prompt"
   ]
  },
  {
   "cell_type": "markdown",
   "id": "595f1d47-a6fc-4f01-912b-4c00135f4a83",
   "metadata": {},
   "source": [
    "Write two functions: cel_to_far(c) and far_to_cel(f) that convert between Celsius and Fahrenheit.\n",
    "Add docstrings, type hints, and exception handling for invalid input.\n",
    "Then make a CLI that asks which conversion to do, validates input, and prints the result.\n",
    "Include a few assert-based tests."
   ]
  },
  {
   "cell_type": "markdown",
   "id": "4ab5c0b0-3085-4253-babd-6f048f7b1fa7",
   "metadata": {},
   "source": [
    "## CHATGPT CODE"
   ]
  },
  {
   "cell_type": "code",
   "execution_count": null,
   "id": "068c1c11-7bbe-4fb4-86db-ff90c3217f8e",
   "metadata": {},
   "outputs": [],
   "source": [
    "def cel_to_far(c):\n",
    "    return (c * 9/5) + 32\n",
    "\n",
    "def far_to_cel(f):\n",
    "    return (f - 32) * 5/9\n",
    "\n",
    "try:\n",
    "    choice = input(\"Convert to (C/F): \").upper()\n",
    "    value = float(input(\"Enter temperature: \"))\n",
    "    if choice == \"F\":\n",
    "        print(cel_to_far(value))\n",
    "    elif choice == \"C\":\n",
    "        print(far_to_cel(value))\n",
    "    else:\n",
    "        print(\"Invalid choice.\")\n",
    "except ValueError:\n",
    "    print(\"Please enter a valid number.\")\n"
   ]
  },
  {
   "cell_type": "markdown",
   "id": "260867f7-3cba-4790-b361-723993ec41af",
   "metadata": {},
   "source": [
    "## Critique"
   ]
  },
  {
   "cell_type": "markdown",
   "id": "c2ecc1f6-d35d-4a51-bafe-0b4b6483d150",
   "metadata": {},
   "source": [
    "Correctness:\n",
    "\n",
    "Formulae for Celsius ↔ Fahrenheit conversions are correct.\n",
    "\n",
    "Uses try/except to handle invalid numeric input.\n",
    "\n",
    "Handles both directions based on user choice.\n",
    "\n",
    " Complexity:\n",
    "\n",
    "Simple arithmetic → O(1) time and space.\n",
    "\n",
    " Robustness:\n",
    "\n",
    "Works for normal inputs, but could handle negative and extreme values more gracefully.\n",
    "\n",
    "No separate validation for choice input.\n",
    "\n",
    "Lacks docstrings, type hints, and test cases.\n",
    "\n",
    " Readability / Style:\n",
    "\n",
    "Clean, but minimal comments and no consistent function documentation.\n",
    "\n",
    "Could encapsulate CLI logic in main() function.\n",
    "\n",
    " Faithfulness to Lecture:\n",
    "\n",
    "Demonstrates exception handling and modular function design.\n",
    "\n",
    "Needs structured testing to fully match lecture standards."
   ]
  },
  {
   "cell_type": "markdown",
   "id": "2cc4f7a9-2535-4f71-aff9-f71b4dc17c81",
   "metadata": {},
   "source": [
    "## Improved Code"
   ]
  },
  {
   "cell_type": "code",
   "execution_count": null,
   "id": "42fe8a7c-75f5-459b-8461-02267d816e5e",
   "metadata": {},
   "outputs": [
    {
     "name": "stdout",
     "output_type": "stream",
     "text": [
      "🌡️ Temperature Converter\n",
      "Convert between Celsius and Fahrenheit.\n",
      "\n"
     ]
    }
   ],
   "source": [
    "def cel_to_far(c: float) -> float:\n",
    "    \"\"\"\n",
    "    Convert Celsius to Fahrenheit.\n",
    "    \n",
    "    Formula: F = (C × 9/5) + 32\n",
    "    \n",
    "    Args:\n",
    "        c (float): Temperature in Celsius.\n",
    "    \n",
    "    Returns:\n",
    "        float: Temperature in Fahrenheit.\n",
    "    \"\"\"\n",
    "    return (c * 9 / 5) + 32\n",
    "\n",
    "\n",
    "def far_to_cel(f: float) -> float:\n",
    "    \"\"\"\n",
    "    Convert Fahrenheit to Celsius.\n",
    "    \n",
    "    Formula: C = (F − 32) × 5/9\n",
    "    \n",
    "    Args:\n",
    "        f (float): Temperature in Fahrenheit.\n",
    "    \n",
    "    Returns:\n",
    "        float: Temperature in Celsius.\n",
    "    \"\"\"\n",
    "    return (f - 32) * 5 / 9\n",
    "\n",
    "\n",
    "def main() -> None:\n",
    "    \"\"\"Command-line temperature converter with exception handling.\"\"\"\n",
    "    print(\"🌡️ Temperature Converter\")\n",
    "    print(\"Convert between Celsius and Fahrenheit.\\n\")\n",
    "\n",
    "    try:\n",
    "        choice = input(\"Convert to (C/F): \").strip().upper()\n",
    "        value = float(input(\"Enter temperature value: \"))\n",
    "\n",
    "        if choice == \"F\":\n",
    "            result = cel_to_far(value)\n",
    "            print(f\"\\n✅ {value}°C = {result:.2f}°F\")\n",
    "\n",
    "        elif choice == \"C\":\n",
    "            result = far_to_cel(value)\n",
    "            print(f\"\\n✅ {value}°F = {result:.2f}°C\")\n",
    "\n",
    "        else:\n",
    "            print(\"⚠️ Invalid choice. Please enter 'C' or 'F'.\")\n",
    "\n",
    "    except ValueError:\n",
    "        print(\"❌ Error: Please enter a valid numeric temperature.\")\n",
    "    except KeyboardInterrupt:\n",
    "        print(\"\\nProgram interrupted by user.\")\n",
    "\n",
    "\n",
    "# ✅ Unit Tests (simple asserts)\n",
    "if __name__ == \"__main__\":\n",
    "    # Interactive CLI\n",
    "    main()\n",
    "\n",
    "    # Automated tests (can be run separately)\n",
    "    assert abs(cel_to_far(0) - 32) < 1e-6\n",
    "    assert abs(cel_to_far(-40) - (-40)) < 1e-6\n",
    "    assert abs(far_to_cel(32) - 0) < 1e-6\n",
    "    assert abs(far_to_cel(-40) - (-40)) < 1e-6\n",
    "    print(\"\\nAll temperature conversion tests passed!\")\n"
   ]
  },
  {
   "cell_type": "markdown",
   "id": "eab5e340-cf15-411b-a79c-4444e3df40dc",
   "metadata": {},
   "source": [
    "Discussion\n",
    "Formulas Used:\n",
    "\n",
    "°F = (°C × 9/5) + 32\n",
    "\n",
    "°C = (°F − 32) × 5/9\n",
    "\n",
    "Control Flow & Validation:\n",
    "\n",
    "Input is validated inside a try/except block.\n",
    "\n",
    "Supports both manual and test-based execution.\n",
    "\n",
    "Exception Handling:\n",
    "\n",
    "Gracefully handles ValueError (invalid numeric input).\n",
    "\n",
    "Handles KeyboardInterrupt safely.\n",
    "\n",
    "Testing:\n",
    "\n",
    "Includes assert statements for key edge cases (0°, -40°, 32°, 98.6°).\n",
    "\n",
    "Complexity:\n",
    "\n",
    "Each conversion is O(1) — just basic arithmetic.\n",
    "\n",
    "Faithfulness:\n",
    "\n",
    "Matches lecture focus on function design, control flow, and robustness."
   ]
  },
  {
   "cell_type": "code",
   "execution_count": null,
   "id": "8fbedc4d-c7ec-4d82-909d-88c89d70ee97",
   "metadata": {},
   "outputs": [],
   "source": []
  }
 ],
 "metadata": {
  "kernelspec": {
   "display_name": "Python [conda env:base] *",
   "language": "python",
   "name": "conda-base-py"
  },
  "language_info": {
   "codemirror_mode": {
    "name": "ipython",
    "version": 3
   },
   "file_extension": ".py",
   "mimetype": "text/x-python",
   "name": "python",
   "nbconvert_exporter": "python",
   "pygments_lexer": "ipython3",
   "version": "3.13.5"
  }
 },
 "nbformat": 4,
 "nbformat_minor": 5
}
