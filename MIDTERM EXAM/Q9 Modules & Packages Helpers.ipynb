{
 "cells": [
  {
   "cell_type": "markdown",
   "id": "dab018af-ed4e-4417-ba57-505c7ad26246",
   "metadata": {},
   "source": [
    " PYTHON MIDTERM EXAM\n",
    "# Caramptana, Jhyn .\n",
    "# Q9. Modules and Packages: Helpers\n",
    "Create package helpers/ with:\n",
    "- string_utils.py: shout(s) -> s.upper()\n",
    "- math_utils.py: area(l, w) -> l*w\n",
    "- main.py uses both \"import ... as ...\" and \"from ... import ...\" styles.\n",
    "Explain namespace collisions and why aliases help. Include a simple run example.\n",
    "\n",
    "# ChatGPT Code (raw)"
   ]
  },
  {
   "cell_type": "code",
   "execution_count": 3,
   "id": "fc61e3c9-1811-42e6-83c2-38a6924e07f2",
   "metadata": {},
   "outputs": [
    {
     "name": "stdout",
     "output_type": "stream",
     "text": [
      "HELLO\n",
      "12\n"
     ]
    }
   ],
   "source": [
    "# helpers/string_utils.py\n",
    "def shout(s):\n",
    "    return s.upper()\n",
    "\n",
    "# helpers/math_utils.py\n",
    "def area(l, w):\n",
    "    return l*w\n",
    "\n",
    "# main.py\n",
    "import helpers.string_utils as su\n",
    "from helpers.math_utils import area\n",
    "\n",
    "print(su.shout(\"hello\"))\n",
    "print(area(3, 4))\n",
    "\n"
   ]
  },
  {
   "cell_type": "markdown",
   "id": "310b04be-ca38-49d0-a243-130f118e01f2",
   "metadata": {},
   "source": [
    "Correctness:\n",
    " -Works, but add __init__.py for explicit packaging (still useful with modern namespace packages).\n",
    "\n",
    "Style:\n",
    "- Add docstrings and type hints; avoid single-letter parameter l (looks like 1).\n",
    "\n",
    "Explainer:\n",
    "- Needs explicit comment on namespace collisions.\n",
    "\n",
    " # Improved Code"
   ]
  },
  {
   "cell_type": "code",
   "execution_count": 4,
   "id": "7224bdcf-f6e3-49ae-8146-6b93bd659ae1",
   "metadata": {},
   "outputs": [
    {
     "name": "stdout",
     "output_type": "stream",
     "text": [
      "HELLO\n",
      "12\n"
     ]
    }
   ],
   "source": [
    "import helpers.string_utils as sutils         # alias avoids long dotted names\n",
    "from helpers.math_utils import area as rect_area  # alias avoids collisions\n",
    "\n",
    "def main() -> None:\n",
    "    print(sutils.shout(\"hello\"))\n",
    "    print(rect_area(3, 4))\n",
    "\n",
    "if __name__ == \"__main__\":\n",
    "    main()\n"
   ]
  },
  {
   "cell_type": "markdown",
   "id": "8bd8678c-249c-412d-9ee3-312529b36704",
   "metadata": {},
   "source": [
    "Namespace collisions: If two modules export area, from module import area brings both into the same namespace and one can shadow the other. Using fully qualified names or aliases (e.g., rect_area) prevents accidental overwrites.\n",
    "\n"
   ]
  },
  {
   "cell_type": "code",
   "execution_count": null,
   "id": "c65562e9-6965-4fc3-9c6f-09a538738bff",
   "metadata": {},
   "outputs": [],
   "source": []
  }
 ],
 "metadata": {
  "kernelspec": {
   "display_name": "Python [conda env:base] *",
   "language": "python",
   "name": "conda-base-py"
  },
  "language_info": {
   "codemirror_mode": {
    "name": "ipython",
    "version": 3
   },
   "file_extension": ".py",
   "mimetype": "text/x-python",
   "name": "python",
   "nbconvert_exporter": "python",
   "pygments_lexer": "ipython3",
   "version": "3.13.5"
  }
 },
 "nbformat": 4,
 "nbformat_minor": 5
}
