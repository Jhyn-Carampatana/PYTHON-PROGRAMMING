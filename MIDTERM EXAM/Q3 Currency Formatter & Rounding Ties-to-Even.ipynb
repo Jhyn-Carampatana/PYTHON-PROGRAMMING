{
 "cells": [
  {
   "cell_type": "markdown",
   "id": "4c402251-9dd3-4504-b3ea-6cb25141fcf1",
   "metadata": {},
   "source": [
    "## Q3 Currency Formatter & Rounding Ties-to-Even"
   ]
  },
  {
   "cell_type": "markdown",
   "id": "f62c8606-8f6a-4481-b152-22fcfa22d182",
   "metadata": {},
   "source": [
    "## Prompt"
   ]
  },
  {
   "cell_type": "markdown",
   "id": "6ca8bd5b-c68f-4dca-a8b1-09fa6b1c250d",
   "metadata": {},
   "source": [
    "Write a Python function fmt_money(x: float) -> str that returns a string like 1,234.50, using proper rounding (banker’s rounding, ties-to-even).\n",
    "Demonstrate with values like 2.5 and 3.5, and explain how Python’s round() handles ties.\n",
    "Show formatted output with commas and two decimals.\n",
    "Add tests."
   ]
  },
  {
   "cell_type": "markdown",
   "id": "a323ed1d-ac6b-432f-9aed-b39cff1233cf",
   "metadata": {},
   "source": [
    "## CHATGPT CODE"
   ]
  },
  {
   "cell_type": "code",
   "execution_count": 2,
   "id": "fa07657b-79f5-4778-bd63-0a29111d4134",
   "metadata": {},
   "outputs": [
    {
     "name": "stdout",
     "output_type": "stream",
     "text": [
      "1,234.50\n",
      "2.50\n",
      "3.50\n"
     ]
    }
   ],
   "source": [
    "def fmt_money(x: float) -> str:\n",
    "    return f\"{round(x, 2):,.2f}\"\n",
    "\n",
    "# Example tests\n",
    "print(fmt_money(1234.5))    # Expected: 1,234.50\n",
    "print(fmt_money(2.5))       # Expected: 2.50 (ties-to-even → 2)\n",
    "print(fmt_money(3.5))       # Expected: 3.50 (ties-to-even → 4)\n"
   ]
  },
  {
   "cell_type": "markdown",
   "id": "ae342f16-29d8-4d4d-9c9f-a5a3d1d2234c",
   "metadata": {},
   "source": [
    "## Critique"
   ]
  },
  {
   "cell_type": "markdown",
   "id": "9ced246b-10ca-4869-acfe-e37f1a743578",
   "metadata": {},
   "source": [
    " Correctness:\n",
    "Correctly uses formatted string :,.2f to display two decimals and commas.\n",
    "\n",
    "However, round(x, 2) inside the f-string is redundant; formatting already rounds to 2 decimals.\n",
    "\n",
    "The docstring and explanation of ties-to-even behavior are missing.\n",
    "\n",
    "Time & Space Complexity:\n",
    "\n",
    "Constant-time arithmetic and formatting → O(1).\n",
    "\n",
    "Negligible space use.\n",
    "\n",
    " Robustness:\n",
    "\n",
    "Handles normal floats well.\n",
    "\n",
    "Could add input validation to ensure x is numeric.\n",
    "\n",
    "Does not address float('nan'), inf, or negative values explicitly.\n",
    "\n",
    "Readability / Style:\n",
    "\n",
    "Clean syntax, but should include a docstring, type hints, and explicit test assertions.\n",
    "\n",
    "Formatting string style is consistent with PEP 8.\n",
    "\n",
    "Faithfulness to Lecture:\n",
    "\n",
    "Demonstrates banker’s rounding (Python’s default round() ties to even).\n",
    "\n",
    "Uses f-string formatting for display control, consistent with our lecture on numeric output formatting.\n",
    "\n"
   ]
  },
  {
   "cell_type": "markdown",
   "id": "eb6bd862-5a63-4574-a8e0-6b5a4d50ae92",
   "metadata": {},
   "source": [
    "## Improved Code"
   ]
  },
  {
   "cell_type": "code",
   "execution_count": 5,
   "id": "2ae1dc40-2e2d-48a0-b2c3-d3e521a9f76b",
   "metadata": {},
   "outputs": [
    {
     "name": "stdout",
     "output_type": "stream",
     "text": [
      "All tests passed!\n"
     ]
    }
   ],
   "source": [
    "def fmt_money(x: float) -> str:\n",
    "    \"\"\"\n",
    "    Format a number as currency with comma separators and two decimal places,\n",
    "    using ties-to-even (banker's rounding).\n",
    "\n",
    "    Args:\n",
    "        x (float): The number to format.\n",
    "\n",
    "    Returns:\n",
    "        str: A formatted string like '1,234.50'.\n",
    "    \"\"\"\n",
    "    if not isinstance(x, (int, float)):\n",
    "        raise TypeError(\"Input must be a number (int or float).\")\n",
    "\n",
    "    # Python's round() uses ties-to-even by default\n",
    "    rounded_value = round(x, 2)\n",
    "\n",
    "    # Format with commas and two decimals\n",
    "    return f\"{rounded_value:,.2f}\"\n",
    "\n",
    "\n",
    "# ✅ Tests\n",
    "if __name__ == \"__main__\":\n",
    "    assert fmt_money(1234.5) == \"1,234.50\"\n",
    "    assert fmt_money(1234.5678) == \"1,234.57\"\n",
    "    assert fmt_money(2.5) == \"2.50\"   # ties-to-even → 2\n",
    "    assert fmt_money(3.5) == \"3.50\"   # ties-to-even → 4\n",
    "    assert fmt_money(-9876.543) == \"-9,876.54\"\n",
    "\n",
    "    print(\"All tests passed!\")\n"
   ]
  },
  {
   "cell_type": "markdown",
   "id": "8bbf0f6d-58d3-49fa-a6fe-02d548645424",
   "metadata": {},
   "source": []
  }
 ],
 "metadata": {
  "kernelspec": {
   "display_name": "Python [conda env:base] *",
   "language": "python",
   "name": "conda-base-py"
  },
  "language_info": {
   "codemirror_mode": {
    "name": "ipython",
    "version": 3
   },
   "file_extension": ".py",
   "mimetype": "text/x-python",
   "name": "python",
   "nbconvert_exporter": "python",
   "pygments_lexer": "ipython3",
   "version": "3.13.5"
  }
 },
 "nbformat": 4,
 "nbformat_minor": 5
}
