{
 "cells": [
  {
   "cell_type": "markdown",
   "id": "e8e9b44b-ef34-4dae-80f4-29fa06450960",
   "metadata": {},
   "source": [
    "## Q6 Dice Simulation (Monte Carlo).\n",
    "\n"
   ]
  },
  {
   "cell_type": "markdown",
   "id": "cbaf1132-78c7-4043-8626-a5a6fdd13396",
   "metadata": {},
   "source": [
    "## Prompt"
   ]
  },
  {
   "cell_type": "markdown",
   "id": "15bd8e3e-8d48-4b6e-8c0f-479e0e0d8252",
   "metadata": {},
   "source": [
    "Write a Python program using the random module to simulate rolling two dice 100,000 times.\n",
    "Estimate the probability that the sum equals 7.\n",
    "Define a helper function roll() that returns a random integer from 1 to 6.\n",
    "Show results and compare to the theoretical probability.\n",
    "Explain random seeding and reproducibility."
   ]
  },
  {
   "cell_type": "markdown",
   "id": "efb36d44-28c3-4b33-be58-fc84635a2e6b",
   "metadata": {},
   "source": [
    "## CHATGPT CODE\n"
   ]
  },
  {
   "cell_type": "code",
   "execution_count": 1,
   "id": "3472a6fb-ac7a-42b8-8a95-ee8a7bdfb270",
   "metadata": {},
   "outputs": [
    {
     "name": "stdout",
     "output_type": "stream",
     "text": [
      "Estimated probability: 0.1637\n",
      "Expected probability: 0.1667\n"
     ]
    }
   ],
   "source": [
    "import random\n",
    "\n",
    "def roll():\n",
    "    return random.randint(1, 6)\n",
    "\n",
    "trials = 100000\n",
    "count = 0\n",
    "\n",
    "for _ in range(trials):\n",
    "    if roll() + roll() == 7:\n",
    "        count += 1\n",
    "\n",
    "probability = count / trials\n",
    "print(f\"Estimated probability: {probability}\")\n",
    "print(\"Expected probability: 0.1667\")\n"
   ]
  },
  {
   "cell_type": "markdown",
   "id": "576a9b45-e3b6-4abb-bf70-92d80d508b20",
   "metadata": {},
   "source": [
    "## Critique"
   ]
  },
  {
   "cell_type": "markdown",
   "id": "06762b17-2fa8-4719-a618-2f2ede38cf55",
   "metadata": {},
   "source": [
    " Correctness:\n",
    "\n",
    "Simulates dice rolls correctly.\n",
    "\n",
    "Correctly counts occurrences where the sum equals 7.\n",
    "\n",
    "Computes empirical probability properly.\n",
    "\n",
    "Complexity:\n",
    "\n",
    "Each trial is constant-time → O(n) time, O(1) space.\n",
    "\n",
    "Robustness:\n",
    "\n",
    "No input handling (not required here).\n",
    "\n",
    "Could use random.seed() for reproducibility.\n",
    "\n",
    "Could encapsulate logic in a function for reusability.\n",
    "\n",
    "Readability / Style:\n",
    "\n",
    "Compact and readable but lacks docstrings and consistent variable naming.\n",
    "\n",
    "Hard-coded values (like 100000) should be named constants.\n",
    "\n",
    "Faithfulness to Lecture:\n",
    "\n",
    "Demonstrates simulation, randomness, and empirical estimation — matches Monte Carlo topic exactly."
   ]
  },
  {
   "cell_type": "markdown",
   "id": "83e250d8-6a0d-4a94-868c-9858b71e2eb4",
   "metadata": {},
   "source": [
    "## Improved Code"
   ]
  },
  {
   "cell_type": "code",
   "execution_count": 2,
   "id": "01735ba2-7a24-42b6-9d1c-d46a117c3262",
   "metadata": {},
   "outputs": [
    {
     "name": "stdout",
     "output_type": "stream",
     "text": [
      "🎲 Dice Simulation: Estimating P(sum = 7)\n",
      "\n",
      "Number of trials     : 100000\n",
      "Estimated probability : 0.16456\n",
      "Theoretical value     : 0.16667\n",
      "Absolute error        : 0.00211\n",
      "\n"
     ]
    }
   ],
   "source": [
    "import random\n",
    "\n",
    "def roll() -> int:\n",
    "    \"\"\"\n",
    "    Simulate rolling a fair six-sided die.\n",
    "\n",
    "    Returns:\n",
    "        int: A random integer between 1 and 6 (inclusive).\n",
    "    \"\"\"\n",
    "    return random.randint(1, 6)\n",
    "\n",
    "\n",
    "def estimate_probability_of_sum7(trials: int = 100_000, seed: int | None = 42) -> float:\n",
    "    \"\"\"\n",
    "    Estimate the probability that the sum of two dice equals 7 using Monte Carlo simulation.\n",
    "\n",
    "    Args:\n",
    "        trials (int): Number of simulations to run.\n",
    "        seed (int | None): Optional random seed for reproducibility.\n",
    "\n",
    "    Returns:\n",
    "        float: The estimated probability.\n",
    "    \"\"\"\n",
    "    if seed is not None:\n",
    "        random.seed(seed)  # Ensures reproducible results\n",
    "\n",
    "    count = 0\n",
    "    for _ in range(trials):\n",
    "        if roll() + roll() == 7:\n",
    "            count += 1\n",
    "\n",
    "    probability = count / trials\n",
    "    return probability\n",
    "\n",
    "\n",
    "def main() -> None:\n",
    "    \"\"\"Run the Monte Carlo dice simulation and display results.\"\"\"\n",
    "    print(\"🎲 Dice Simulation: Estimating P(sum = 7)\\n\")\n",
    "    trials = 100_000\n",
    "    estimated = estimate_probability_of_sum7(trials)\n",
    "    theoretical = 6 / 36  # exact probability\n",
    "\n",
    "    print(f\"Number of trials     : {trials}\")\n",
    "    print(f\"Estimated probability : {estimated:.5f}\")\n",
    "    print(f\"Theoretical value     : {theoretical:.5f}\")\n",
    "    print(f\"Absolute error        : {abs(estimated - theoretical):.5f}\\n\")\n",
    "\n",
    "\n",
    "if __name__ == \"__main__\":\n",
    "    main()\n"
   ]
  },
  {
   "cell_type": "markdown",
   "id": "4c11d28d-bf8b-4fcd-859a-1886e9619a46",
   "metadata": {},
   "source": [
    "Discussion\n",
    "Random Seeding:\n",
    "\n",
    "random.seed(42) ensures the same pseudo-random sequence, making the results reproducible for testing and grading.\n",
    "\n",
    "Without a seed, results vary slightly each run — which is normal for Monte Carlo simulations.\n",
    "\n",
    "Theoretical Probability:\n",
    "\n",
    "There are 6 combinations that sum to 7:\n",
    "(1,6), (2,5), (3,4), (4,3), (5,2), (6,1)\n",
    "→ \n",
    "P\n",
    "(\n",
    "7\n",
    ")\n",
    "=\n",
    "6\n",
    "/\n",
    "36\n",
    "=\n",
    "1\n",
    "/\n",
    "6\n",
    "≈\n",
    "0.1667\n",
    "P(7)=6/36=1/6≈0.1667\n",
    "\n",
    "Complexity:\n",
    "\n",
    "O(n) time (looping 100,000 times).\n",
    "\n",
    "O(1) space (constant memory usage).\n",
    "\n",
    "Faithfulness:\n",
    "\n",
    "Accurately demonstrates Monte Carlo estimation, random simulation, and empirical vs. theoretical comparison — exactly as taught in lectures."
   ]
  },
  {
   "cell_type": "code",
   "execution_count": null,
   "id": "b8a2af8c-08b0-4468-b3e3-9fa95d00d4dc",
   "metadata": {},
   "outputs": [],
   "source": []
  }
 ],
 "metadata": {
  "kernelspec": {
   "display_name": "Python [conda env:base] *",
   "language": "python",
   "name": "conda-base-py"
  },
  "language_info": {
   "codemirror_mode": {
    "name": "ipython",
    "version": 3
   },
   "file_extension": ".py",
   "mimetype": "text/x-python",
   "name": "python",
   "nbconvert_exporter": "python",
   "pygments_lexer": "ipython3",
   "version": "3.13.5"
  }
 },
 "nbformat": 4,
 "nbformat_minor": 5
}
