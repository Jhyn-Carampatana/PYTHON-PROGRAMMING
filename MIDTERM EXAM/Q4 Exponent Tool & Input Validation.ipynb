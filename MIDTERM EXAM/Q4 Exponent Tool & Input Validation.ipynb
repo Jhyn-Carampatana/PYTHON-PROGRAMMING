{
 "cells": [
  {
   "cell_type": "markdown",
   "id": "1454dfb5-1880-478e-99cf-a258e727bfa7",
   "metadata": {},
   "source": [
    "## Q4 Exponent Tool & Input Validation"
   ]
  },
  {
   "cell_type": "markdown",
   "id": "4d8a3c95-a4de-4346-8e04-12091e070ecd",
   "metadata": {},
   "source": [
    "## Prompt"
   ]
  },
  {
   "cell_type": "markdown",
   "id": "3e501561-9ffe-4627-b057-8f02be20e8ba",
   "metadata": {},
   "source": [
    "Write a command-line Python program exponent.py that asks for two numbers (base and exponent), validates they are numeric, and prints a ** b.\n",
    "Handle invalid input using try/except instead of str.isdigit().\n",
    "Explain why isdigit() fails for negative or floating-point inputs.\n",
    "Include sample outputs."
   ]
  },
  {
   "cell_type": "markdown",
   "id": "06474674-e8f2-4509-998a-6c568440b21d",
   "metadata": {},
   "source": [
    "## CHATGPT CODE"
   ]
  },
  {
   "cell_type": "code",
   "execution_count": 1,
   "id": "83a28f74-e3ac-4946-bcc6-87c3e1fb31fa",
   "metadata": {},
   "outputs": [],
   "source": [
    "def exponent_tool():\n",
    "    try:\n",
    "        base = float(input(\"Enter base: \"))\n",
    "        exp = float(input(\"Enter exponent: \"))\n",
    "        result = base ** exp\n",
    "        print(f\"\\nResult: {base} ** {exp} = {result}\\n\")\n",
    "    except ValueError:\n",
    "        print(\"\\nError: Please enter valid numbers only!\\n\")\n",
    "\n",
    "# Example run\n",
    "# Enter base: 2\n",
    "# Enter exponent: 3\n",
    "# Result: 2.0 ** 3.0 = 8.0\n",
    "#\n",
    "# Enter base: hello\n",
    "# Error: Please enter valid numbers only!\n"
   ]
  },
  {
   "cell_type": "markdown",
   "id": "d58e72ab-df45-4941-b1a9-884b4a0364ed",
   "metadata": {},
   "source": [
    "## Critique"
   ]
  },
  {
   "cell_type": "markdown",
   "id": "e9ba67b9-2470-4a3d-be19-55a702683bf6",
   "metadata": {},
   "source": [
    "Correctness:\n",
    "\n",
    "Works correctly for valid numeric inputs.\n",
    "\n",
    "Gracefully handles invalid entries (e.g., letters) using try/except.\n",
    "\n",
    "Meets the task requirements.\n",
    "\n",
    "time  & Space Complexity:\n",
    "\n",
    "Constant-time operations → O(1) time an space.\n",
    "Handles invalid numeric input properly.\n",
    "\n",
    "However, does not handle empty input or negative/float edge cases explicitly.\n",
    "\n",
    "Could add looping until valid input is entered.\n",
    "\n",
    "Readability / Style:\n",
    "\n",
    "Clean structure but lacks docstring, function naming consistency, and proper spacing for CLI messages.\n",
    "\n",
    "No comments or exit option for user.\n",
    "\n",
    " Faithfulness to Lecture:\n",
    "\n",
    "Uses try/except block correctly as taught in input validation lectures.\n",
    "\n",
    "Correctly demonstrates why pre-checks like isdigit() are unreliable (since \"-3.5\".isdigit() → False)."
   ]
  },
  {
   "cell_type": "markdown",
   "id": "c16f7278-a83b-41cd-9ca6-cd8cb7fc8ed7",
   "metadata": {},
   "source": [
    "## Improved Code"
   ]
  },
  {
   "cell_type": "code",
   "execution_count": null,
   "id": "7c1f43fb-2f62-4cb6-aba8-9a6098bdd25b",
   "metadata": {},
   "outputs": [],
   "source": [
    "def exponent_tool() -> None:\n",
    "    \"\"\"\n",
    "    Command-line exponent calculator that validates numeric input using try/except.\n",
    "\n",
    "    Reads two numbers (base and exponent), computes a ** b,\n",
    "    and handles invalid input gracefully.\n",
    "\n",
    "    Demonstrates why try/except is safer than str.isdigit()\n",
    "    for negative and floating-point numbers.\n",
    "    \"\"\"\n",
    "    while True:\n",
    "        try:\n",
    "            a = float(input(\"Enter base (or Q to quit): \"))\n",
    "            b = float(input(\"Enter exponent (or Q to quit): \"))\n",
    "            result = a ** b\n",
    "            print(f\"\\n✅ Result: {a} ** {b} = {result}\\n\")\n",
    "            break\n",
    "        except ValueError:\n",
    "            print(\"❌ Invalid input. Please enter valid numbers.\\n\")\n",
    "        except OverflowError:\n",
    "            print(\"⚠️ The result is too large to compute.\\n\")\n",
    "        except KeyboardInterrupt:\n",
    "            print(\"\\nExiting program.\")\n",
    "            break\n",
    "\n",
    "\n",
    "if __name__ == \"__main__\":\n",
    "    exponent_tool()\n"
   ]
  },
  {
   "cell_type": "markdown",
   "id": "7251ae94-4a47-4213-b4e3-d7cb2cb54f1d",
   "metadata": {},
   "source": [
    " Discussion: try/except vs. isdigit()\n",
    "Method\tWorks For\tFails For\tExample\n",
    "str.isdigit()\tWhole positive integers only\tNegative (-3), floats (3.5), scientific notation (1e3)\t\"3.5\".isdigit() → False\n",
    "try/except + float()\tHandles all numeric formats\tNone (if value is numeric)\tConverts -3.5 → -3.5 safely\n",
    "\n",
    " Therefore, try/except is the recommended, robust way to handle numeric validation for both integers and floats, including negative numbers."
   ]
  },
  {
   "cell_type": "code",
   "execution_count": null,
   "id": "c9bdc090-fde9-4e28-9d4a-809f9f2f8751",
   "metadata": {},
   "outputs": [],
   "source": []
  }
 ],
 "metadata": {
  "kernelspec": {
   "display_name": "Python [conda env:base] *",
   "language": "python",
   "name": "conda-base-py"
  },
  "language_info": {
   "codemirror_mode": {
    "name": "ipython",
    "version": 3
   },
   "file_extension": ".py",
   "mimetype": "text/x-python",
   "name": "python",
   "nbconvert_exporter": "python",
   "pygments_lexer": "ipython3",
   "version": "3.13.5"
  }
 },
 "nbformat": 4,
 "nbformat_minor": 5
}
