{
 "cells": [
  {
   "cell_type": "markdown",
   "id": "b97641e1-7e53-402e-886b-ea4970e31dbe",
   "metadata": {},
   "source": [
    "## Q8 OOP + Composition Kennel with Dogs"
   ]
  },
  {
   "cell_type": "markdown",
   "id": "93bb6779-6107-45ff-94fc-af6486730548",
   "metadata": {},
   "source": [
    "## Prompt"
   ]
  },
  {
   "cell_type": "markdown",
   "id": "12339257-813a-4598-9038-67a29f1d7f8e",
   "metadata": {},
   "source": [
    "Create a Dog class with attributes name, age, and breed, and a bark() method.\n",
    "Create a Kennel class that manages multiple Dog objects using a list.\n",
    "It should have methods add_dog, remove_dog, oldest_dog, and find_by_breed.\n",
    "Demonstrate composition and explain why it’s better than inheritance for this case."
   ]
  },
  {
   "cell_type": "markdown",
   "id": "c1c98c8a-7cdf-42f6-a3b9-73688e2d9408",
   "metadata": {},
   "source": [
    "## CHATGPT CODE"
   ]
  },
  {
   "cell_type": "code",
   "execution_count": 1,
   "id": "640491ea-4771-4521-a2ec-62c7889e6d3a",
   "metadata": {},
   "outputs": [
    {
     "name": "stdout",
     "output_type": "stream",
     "text": [
      "Rex\n",
      "['Buddy', 'Luna']\n"
     ]
    }
   ],
   "source": [
    "class Dog:\n",
    "    def __init__(self, name, age, breed):\n",
    "        self.name = name\n",
    "        self.age = age\n",
    "        self.breed = breed\n",
    "\n",
    "    def bark(self):\n",
    "        print(f\"{self.name} says Woof!\")\n",
    "\n",
    "\n",
    "class Kennel:\n",
    "    def __init__(self):\n",
    "        self.dogs = []\n",
    "\n",
    "    def add_dog(self, dog):\n",
    "        self.dogs.append(dog)\n",
    "\n",
    "    def remove_dog(self, name):\n",
    "        self.dogs = [d for d in self.dogs if d.name != name]\n",
    "\n",
    "    def oldest_dog(self):\n",
    "        return max(self.dogs, key=lambda d: d.age)\n",
    "\n",
    "    def find_by_breed(self, breed):\n",
    "        return [d for d in self.dogs if d.breed.lower() == breed.lower()]\n",
    "\n",
    "\n",
    "# Example\n",
    "k = Kennel()\n",
    "k.add_dog(Dog(\"Buddy\", 3, \"Beagle\"))\n",
    "k.add_dog(Dog(\"Rex\", 5, \"German Shepherd\"))\n",
    "k.add_dog(Dog(\"Luna\", 2, \"Beagle\"))\n",
    "\n",
    "print(k.oldest_dog().name)\n",
    "print([d.name for d in k.find_by_breed(\"Beagle\")])\n"
   ]
  },
  {
   "cell_type": "markdown",
   "id": "83fd9b28-2eef-4077-ae09-16142b0d65d1",
   "metadata": {},
   "source": [
    "## Critique"
   ]
  },
  {
   "cell_type": "markdown",
   "id": "54adc02b-9cbe-422c-8fe8-61eabf327b81",
   "metadata": {},
   "source": [
    "Correctness:\n",
    "\n",
    "Implements all required methods correctly.\n",
    "\n",
    "Uses list comprehension efficiently.\n",
    "\n",
    "Works for adding, removing, and searching dogs.\n",
    "\n",
    "Time & Complexity:\n",
    "\n",
    "add_dog: O(1)\n",
    "\n",
    "remove_dog, find_by_breed: O(n)\n",
    "\n",
    "oldest_dog: O(n) — single scan using max().\n",
    "\n",
    " Robustness:\n",
    "\n",
    "Doesn’t handle empty kennel errors (e.g., oldest_dog() with no dogs).\n",
    "\n",
    "No input validation for duplicates.\n",
    "\n",
    " Readability / Style:\n",
    "\n",
    "Compact, clean, but lacks docstrings, type hints, and formatted output.\n",
    "\n",
    " Faithfulness to Lecture:\n",
    "\n",
    "Correctly demonstrates composition (Kennel has Dogs) instead of inheritance (Kennel is not a Dog).\n",
    "\n",
    "Matches OOP design principles discussed in class."
   ]
  },
  {
   "cell_type": "markdown",
   "id": "83aa54f7-d9b7-4600-bc49-087529d92e38",
   "metadata": {},
   "source": [
    "## Improved Code"
   ]
  },
  {
   "cell_type": "code",
   "execution_count": 2,
   "id": "16d10c8f-9ba6-4f38-b550-e41736206317",
   "metadata": {},
   "outputs": [
    {
     "name": "stdout",
     "output_type": "stream",
     "text": [
      "🏠 Kennel Management System\n",
      "\n",
      "✅ Added Buddy to the kennel.\n",
      "✅ Added Rex to the kennel.\n",
      "✅ Added Luna to the kennel.\n",
      "🐕 Dogs currently in the kennel:\n",
      " - Buddy (Beagle, 3 yrs)\n",
      " - Rex (German Shepherd, 5 yrs)\n",
      " - Luna (Beagle, 2 yrs)\n",
      "\n",
      "🔍 Find by breed: Beagle\n",
      "[Buddy (Beagle, 3 yrs), Luna (Beagle, 2 yrs)]\n",
      "\n",
      "🐶 Oldest dog in the kennel:\n",
      "The oldest dog is Rex, age 5.\n",
      "\n",
      "❌ Removing 'Buddy'...\n",
      "❌ Removed dog named 'Buddy'.\n",
      "🐕 Dogs currently in the kennel:\n",
      " - Rex (German Shepherd, 5 yrs)\n",
      " - Luna (Beagle, 2 yrs)\n"
     ]
    }
   ],
   "source": [
    "class Dog:\n",
    "    \"\"\"\n",
    "    Represents a single dog with basic attributes and behaviors.\n",
    "    \"\"\"\n",
    "    def __init__(self, name: str, age: int, breed: str) -> None:\n",
    "        self.name = name\n",
    "        self.age = age\n",
    "        self.breed = breed\n",
    "\n",
    "    def bark(self) -> None:\n",
    "        \"\"\"Make the dog bark.\"\"\"\n",
    "        print(f\"🐶 {self.name} says: Woof!\")\n",
    "\n",
    "    def __repr__(self) -> str:\n",
    "        \"\"\"Readable string representation of a Dog.\"\"\"\n",
    "        return f\"{self.name} ({self.breed}, {self.age} yrs)\"\n",
    "\n",
    "\n",
    "class Kennel:\n",
    "    \"\"\"\n",
    "    Manages a collection of Dog instances using composition.\n",
    "    \"\"\"\n",
    "    def __init__(self) -> None:\n",
    "        self.dogs: list[Dog] = []\n",
    "\n",
    "    def add_dog(self, dog: Dog) -> None:\n",
    "        \"\"\"Add a dog to the kennel.\"\"\"\n",
    "        self.dogs.append(dog)\n",
    "        print(f\"✅ Added {dog.name} to the kennel.\")\n",
    "\n",
    "    def remove_dog(self, name: str) -> None:\n",
    "        \"\"\"Remove a dog by name.\"\"\"\n",
    "        before = len(self.dogs)\n",
    "        self.dogs = [d for d in self.dogs if d.name.lower() != name.lower()]\n",
    "        after = len(self.dogs)\n",
    "        if before == after:\n",
    "            print(f\"⚠️ No dog named '{name}' found.\")\n",
    "        else:\n",
    "            print(f\"❌ Removed dog named '{name}'.\")\n",
    "\n",
    "    def oldest_dog(self) -> Dog | None:\n",
    "        \"\"\"Return the oldest dog or None if kennel is empty.\"\"\"\n",
    "        if not self.dogs:\n",
    "            print(\"🐾 The kennel is empty.\")\n",
    "            return None\n",
    "        return max(self.dogs, key=lambda d: d.age)\n",
    "\n",
    "    def find_by_breed(self, breed: str) -> list[Dog]:\n",
    "        \"\"\"Find all dogs of a given breed.\"\"\"\n",
    "        return [d for d in self.dogs if d.breed.lower() == breed.lower()]\n",
    "\n",
    "    def list_dogs(self) -> None:\n",
    "        \"\"\"Display all dogs in the kennel.\"\"\"\n",
    "        if not self.dogs:\n",
    "            print(\"🐾 No dogs currently in the kennel.\")\n",
    "        else:\n",
    "            print(\"🐕 Dogs currently in the kennel:\")\n",
    "            for d in self.dogs:\n",
    "                print(f\" - {d}\")\n",
    "\n",
    "\n",
    "def main() -> None:\n",
    "    \"\"\"Demonstrate Kennel composition with Dog objects.\"\"\"\n",
    "    print(\"🏠 Kennel Management System\\n\")\n",
    "\n",
    "    k = Kennel()\n",
    "\n",
    "    # Add some dogs\n",
    "    k.add_dog(Dog(\"Buddy\", 3, \"Beagle\"))\n",
    "    k.add_dog(Dog(\"Rex\", 5, \"German Shepherd\"))\n",
    "    k.add_dog(Dog(\"Luna\", 2, \"Beagle\"))\n",
    "\n",
    "    k.list_dogs()\n",
    "\n",
    "    print(\"\\n🔍 Find by breed: Beagle\")\n",
    "    print(k.find_by_breed(\"Beagle\"))\n",
    "\n",
    "    print(\"\\n🐶 Oldest dog in the kennel:\")\n",
    "    oldest = k.oldest_dog()\n",
    "    if oldest:\n",
    "        print(f\"The oldest dog is {oldest.name}, age {oldest.age}.\")\n",
    "\n",
    "    print(\"\\n❌ Removing 'Buddy'...\")\n",
    "    k.remove_dog(\"Buddy\")\n",
    "\n",
    "    k.list_dogs()\n",
    "\n",
    "\n",
    "if __name__ == \"__main__\":\n",
    "    main()\n"
   ]
  },
  {
   "cell_type": "markdown",
   "id": "fe7279c3-48c6-4724-969a-51b7def46bc6",
   "metadata": {},
   "source": [
    " Discussion: Composition vs. Inheritance\n",
    "Concept\tComposition (Kennel has Dogs)\tInheritance (Kennel is a Dog)\n",
    "Relationship\t\"Has-a\" relationship\t\"Is-a\" relationship\n",
    "Suitability\tKennel manages Dog objects\tNonsensical (Kennel ≠ Dog)\n",
    "Flexibility\tEasily manages multiple dogs\tWould mix unrelated behavior\n",
    "Lecture Tie-in\tDemonstrates composition (objects containing other objects)\tDemonstrates inheritance misuse\n",
    "\n",
    " Conclusion:\n",
    "Composition is the correct design because a kennel contains dogs, it’s not a specialized kind of dog. This is an example of good OOP design separation of concerns."
   ]
  },
  {
   "cell_type": "code",
   "execution_count": null,
   "id": "6baaac3c-80f9-4989-bc15-b991585a86d7",
   "metadata": {},
   "outputs": [],
   "source": []
  }
 ],
 "metadata": {
  "kernelspec": {
   "display_name": "Python [conda env:base] *",
   "language": "python",
   "name": "conda-base-py"
  },
  "language_info": {
   "codemirror_mode": {
    "name": "ipython",
    "version": 3
   },
   "file_extension": ".py",
   "mimetype": "text/x-python",
   "name": "python",
   "nbconvert_exporter": "python",
   "pygments_lexer": "ipython3",
   "version": "3.13.5"
  }
 },
 "nbformat": 4,
 "nbformat_minor": 5
}
