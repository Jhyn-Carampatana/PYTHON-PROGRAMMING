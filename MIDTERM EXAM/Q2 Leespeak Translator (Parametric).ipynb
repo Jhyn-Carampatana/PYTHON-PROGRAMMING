{
 "cells": [
  {
   "cell_type": "markdown",
   "id": "32247a7c-e81b-4d9d-8e0d-29c9cdf7b915",
   "metadata": {},
   "source": [
    "## Q2 Leespeak Translator(Parametric)"
   ]
  },
  {
   "cell_type": "markdown",
   "id": "2fdc8657-3c12-4da9-94ac-f1eb808a5303",
   "metadata": {},
   "source": [
    "## Prompt"
   ]
  },
  {
   "cell_type": "markdown",
   "id": "cf4cf266-6938-4cf0-8253-7976559560fa",
   "metadata": {},
   "source": [
    "Write a Python function translate(text: str, mapping: dict[str, str]) -> str that replaces lowercase letters using the given mapping, leaving other characters unchanged.\n",
    "Example mapping: {'a': '4', 'e': '3', 'i': '1', 'o': '0', 's': '5'}.\n",
    "Avoid inefficient string concatenation inside loops — use list comprehension and \"\".join().\n",
    "Explain string immutability and show tests."
   ]
  },
  {
   "cell_type": "markdown",
   "id": "1a0ed164-991d-42a3-a349-03edbe15c617",
   "metadata": {},
   "source": [
    "## CHATGPT CODE\n"
   ]
  },
  {
   "cell_type": "code",
   "execution_count": 2,
   "id": "7423603c-d07b-46a9-a164-c220a3bff1f9",
   "metadata": {},
   "outputs": [
    {
     "name": "stdout",
     "output_type": "stream",
     "text": [
      "4w350m3\n",
      "Ch4tGPT\n"
     ]
    }
   ],
   "source": [
    "def translate(text: str, mapping: dict[str, str]) -> str:\n",
    "    result = []\n",
    "    for ch in text:\n",
    "        if ch in mapping:\n",
    "            result.append(mapping[ch])\n",
    "        else:\n",
    "            result.append(ch)\n",
    "    return \"\".join(result)\n",
    "\n",
    "# Example test\n",
    "leet_map = {'a': '4', 'e': '3', 'i': '1', 'o': '0', 's': '5'}\n",
    "print(translate(\"awesome\", leet_map))  # Expected: 4w3s0m3\n",
    "print(translate(\"ChatGPT\", leet_map))  # Expected: Ch4tGPT\n"
   ]
  },
  {
   "cell_type": "markdown",
   "id": "3c076fc1-6256-4af3-8e16-6ce7dc69ca11",
   "metadata": {},
   "source": [
    "## Critique"
   ]
  },
  {
   "cell_type": "markdown",
   "id": "4f03d328-8b1a-4cde-a88d-9ea866fd45e3",
   "metadata": {},
   "source": [
    "Correctness:\n",
    "Correctly applies the mapping only to characters found in mapping.\n",
    "Leaves unmapped characters unchanged.\n",
    "Works for lowercase letters as required.\n",
    " Time & Space Complexity:\n",
    "Iterates once over the string → O(n) time.\n",
    "Builds a list of characters → O(n) space.\n",
    "Uses \"\".join() efficiently (avoids repeated concatenation cost).\n",
    "Robustness:\n",
    "Works for empty strings and any character type.\n",
    "Does not modify original string (strings are immutable).\n",
    "Could validate that mapping is a dictionary.\n",
    "Could clarify behavior when uppercase letters appear (e.g., “ChatGPT”).\n",
    "Readability / Style:\n",
    "Clean, short, PEP 8–compliant.\n",
    " Faithfulness to Lecture:\n",
    "Follows lecture guidance on string immutability and efficient concatenation using lists + join.\n"
   ]
  },
  {
   "cell_type": "code",
   "execution_count": 8,
   "id": "09545fc2-47dc-4dca-bc1f-7b50c675b0fc",
   "metadata": {},
   "outputs": [
    {
     "name": "stdout",
     "output_type": "stream",
     "text": [
      "All tests passed!\n"
     ]
    }
   ],
   "source": [
    "def translate(text: str, mapping: dict[str, str]) -> str:\n",
    "    \"\"\"\n",
    "    Translate lowercase letters in `text` based on the provided `mapping` dictionary.\n",
    "    Leaves uppercase letters and other characters unchanged.\n",
    "\n",
    "    Args:\n",
    "        text (str): Input string to translate.\n",
    "        mapping (dict[str, str]): Dictionary of lowercase character replacements.\n",
    "\n",
    "    Returns:\n",
    "        str: Translated string.\n",
    "    \"\"\"\n",
    "    if not isinstance(text, str):\n",
    "        raise TypeError(\"text must be a string\")\n",
    "    if not isinstance(mapping, dict):\n",
    "        raise TypeError(\"mapping must be a dictionary\")\n",
    "\n",
    "    # Replace lowercase letters based on mapping, leave others as-is\n",
    "    translated_chars = [\n",
    "        mapping[ch] if ch.islower() and ch in mapping else ch\n",
    "        for ch in text\n",
    "    ]\n",
    "    return \"\".join(translated_chars)\n",
    "\n",
    "# ✅ Corrected Tests\n",
    "if __name__ == \"__main__\":\n",
    "    leet_map = {'a': '4', 'e': '3', 'i': '1', 'o': '0', 's': '5'}\n",
    "\n",
    "    assert translate(\"awesome\", leet_map) == \"4w350m3\"  # Fixed: 's' -> '5'\n",
    "    assert translate(\"ChatGPT\", leet_map) == \"Ch4tGPT\"\n",
    "    assert translate(\"\", leet_map) == \"\"\n",
    "    assert translate(\"123\", leet_map) == \"123\"\n",
    "\n",
    "    print(\"All tests passed!\")\n",
    "\n"
   ]
  },
  {
   "cell_type": "markdown",
   "id": "7924307c-7e85-45de-9678-66ca70d18279",
   "metadata": {},
   "source": [
    "Discussion: String Immutability & Efficiency\n",
    "In Python, strings are immutable, meaning each modification creates a new string in memory.\n",
    "Example: \"hi\" + \"!\" creates a new object — not an in-place edit.\n",
    "\n",
    "Therefore, repeatedly concatenating inside a loop (result += ch) is O(n²) inefficient.\n",
    "\n",
    "The efficient approach is to:\n",
    "\n",
    "Collect results in a list (O(n) appends).\n",
    "\n",
    "Use \"\".join(list) once at the end — total O(n).\n",
    "\n"
   ]
  },
  {
   "cell_type": "code",
   "execution_count": null,
   "id": "10c060ce-2d2b-4c21-a548-aa46816295b9",
   "metadata": {},
   "outputs": [],
   "source": []
  }
 ],
 "metadata": {
  "kernelspec": {
   "display_name": "Python [conda env:base] *",
   "language": "python",
   "name": "conda-base-py"
  },
  "language_info": {
   "codemirror_mode": {
    "name": "ipython",
    "version": 3
   },
   "file_extension": ".py",
   "mimetype": "text/x-python",
   "name": "python",
   "nbconvert_exporter": "python",
   "pygments_lexer": "ipython3",
   "version": "3.13.5"
  }
 },
 "nbformat": 4,
 "nbformat_minor": 5
}
