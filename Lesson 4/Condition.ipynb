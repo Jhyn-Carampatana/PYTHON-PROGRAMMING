{
 "cells": [
  {
   "cell_type": "markdown",
   "id": "0eead126-cfae-488b-8c8b-08afe5ebf72d",
   "metadata": {},
   "source": [
    "# Review Exercise 1 #"
   ]
  },
  {
   "cell_type": "code",
   "execution_count": 9,
   "id": "548a7fd6-1e1e-49a9-873d-47b566b238f4",
   "metadata": {},
   "outputs": [
    {
     "name": "stdout",
     "output_type": "stream",
     "text": [
      "1 <= 1: True\n",
      "1 != 1: False\n",
      "1 != 2: True\n",
      "\"good\" != \"bad\": True\n",
      "\"good\" != \"Good\": True\n",
      "123 == \"123\": False\n"
     ]
    }
   ],
   "source": [
    "# 1\n",
    "print(\"1 <= 1:\", 1 <= 1)               \n",
    "print(\"1 != 1:\", 1 != 1)                 \n",
    "print(\"1 != 2:\", 1 != 2)                 \n",
    "print('\"good\" != \"bad\":', \"good\" != \"bad\")   \n",
    "print('\"good\" != \"Good\":', \"good\" != \"Good\")\n",
    "print('123 == \"123\":', 123 == \"123\")     "
   ]
  },
  {
   "cell_type": "code",
   "execution_count": 10,
   "id": "c8e8cea4-e13a-4a5d-b947-e388200fed19",
   "metadata": {},
   "outputs": [
    {
     "name": "stdout",
     "output_type": "stream",
     "text": [
      "3 < 4: True\n",
      "10 > 5: True\n",
      "True\n",
      "42 != \"42\": True\n"
     ]
    }
   ],
   "source": [
    "# 2\n",
    "print(\"3 < 4:\", 3 < 4)\n",
    "print(\"10 > 5:\", 10 > 5)\n",
    "print('\"jack != \"jill\":' \"jack\" != \"jill\")\n",
    "print('42 != \"42\":', 42 != \"42\")"
   ]
  },
  {
   "cell_type": "markdown",
   "id": "5a409dcc-1a92-4de3-998a-6e204a1b21f3",
   "metadata": {},
   "source": [
    "# Review Exercise 2 #"
   ]
  },
  {
   "cell_type": "code",
   "execution_count": 21,
   "id": "d95023a5-9c61-4baf-b4ed-5cb7beef497b",
   "metadata": {},
   "outputs": [
    {
     "name": "stdout",
     "output_type": "stream",
     "text": [
      "(1 <= 1) and (1 != 1): False\n",
      "not (1 != 2): False\n",
      "(\"good\" != \"bad\") or false: True\n",
      "(\"good\" != \"Good\") and not (1 == 1): False\n"
     ]
    }
   ],
   "source": [
    "# 1\n",
    "expr1 = (1 <= 1) and (1 != 1)\n",
    "print (\"(1 <= 1) and (1 != 1):\", expr1)\n",
    "\n",
    "expr2 = not (1 != 2)\n",
    "print (\"not (1 != 2):\", expr2)\n",
    " \n",
    "expr3 = (\"good\" != \"bad\") or False\n",
    "print('(\"good\" != \"bad\") or false:', expr3)\n",
    "\n",
    "expr4 = (\"good\" != \"Good\") and not (1 == 1)\n",
    "print('(\"good\" != \"Good\") and not (1 == 1):', expr4)\n"
   ]
  },
  {
   "cell_type": "code",
   "execution_count": 22,
   "id": "aee38abc-21b7-439d-9b06-4affb893f714",
   "metadata": {},
   "outputs": [
    {
     "name": "stdout",
     "output_type": "stream",
     "text": [
      "False == (not True): True\n",
      "(True and False) == (True and False): True\n",
      "(not True) and (\"A\" == \"B\"): False\n",
      "not (True and \"A\" == \"B\"): True\n"
     ]
    }
   ],
   "source": [
    "# 2\n",
    "expr5 = False == (not True)\n",
    "print(\"False == (not True):\", expr5)  \n",
    "\n",
    "expr6 = (True and False) == (True and False)\n",
    "print(\"(True and False) == (True and False):\", expr6)  \n",
    "expr7 = (not True) and (\"A\" == \"B\")\n",
    "print('(not True) and (\"A\" == \"B\"):', expr7) \n",
    "\n",
    "expr7_fixed = not (True and \"A\" == \"B\")\n",
    "print('not (True and \"A\" == \"B\"):', expr7_fixed)  "
   ]
  },
  {
   "cell_type": "markdown",
   "id": "9484f70f-bb42-4ac1-bad3-deaff92077c3",
   "metadata": {},
   "source": [
    "# Review Exercise 3 #"
   ]
  },
  {
   "cell_type": "code",
   "execution_count": 24,
   "id": "fb571972-e832-4df6-828d-38ab41f4fa71",
   "metadata": {},
   "outputs": [
    {
     "name": "stdin",
     "output_type": "stream",
     "text": [
      "Enter a word:  karylle\n"
     ]
    },
    {
     "name": "stdout",
     "output_type": "stream",
     "text": [
      "The word has more than 5 characters.\n"
     ]
    }
   ],
   "source": [
    "# 1\n",
    "word = input(\"Enter a word: \")\n",
    "\n",
    "length = len(word)\n",
    "\n",
    "if length < 5:\n",
    "    print(\"The word has less than 5 characters.\")\n",
    "elif length == 5:\n",
    "    print(\"The word has exactly 5 characters.\")\n",
    "else:\n",
    "    print(\"The word has more than 5 characters.\")"
   ]
  },
  {
   "cell_type": "markdown",
   "id": "f2bd95fe-3190-4a69-a983-04a88c14f358",
   "metadata": {},
   "source": [
    "# Review Exercise 4 #"
   ]
  },
  {
   "cell_type": "code",
   "execution_count": 26,
   "id": "878ce184-aa83-4a8b-bd6f-ed6f42ca77de",
   "metadata": {},
   "outputs": [
    {
     "name": "stdin",
     "output_type": "stream",
     "text": [
      "Enter something (or 'Q' to quit):  Disney Princess\n"
     ]
    },
    {
     "name": "stdout",
     "output_type": "stream",
     "text": [
      "You entered: Disney Princess\n"
     ]
    },
    {
     "name": "stdin",
     "output_type": "stream",
     "text": [
      "Enter something (or 'Q' to quit):  Q\n"
     ]
    },
    {
     "name": "stdout",
     "output_type": "stream",
     "text": [
      "Quitting program...\n"
     ]
    }
   ],
   "source": [
    "# 1\n",
    "while True:\n",
    "    user_input = input(\"Enter something (or 'Q' to quit): \")\n",
    "    if user_input.upper() == 'Q':\n",
    "        print(\"Quitting program...\")\n",
    "        break\n",
    "    else:\n",
    "        print(f\"You entered: {user_input}\")"
   ]
  },
  {
   "cell_type": "code",
   "execution_count": 27,
   "id": "76cb509e-ce10-42bd-acb7-b8cbaa0495f3",
   "metadata": {},
   "outputs": [
    {
     "name": "stdout",
     "output_type": "stream",
     "text": [
      "1\n",
      "2\n",
      "4\n",
      "5\n",
      "7\n",
      "8\n",
      "10\n",
      "11\n",
      "13\n",
      "14\n",
      "16\n",
      "17\n",
      "19\n",
      "20\n",
      "22\n",
      "23\n",
      "25\n",
      "26\n",
      "28\n",
      "29\n",
      "31\n",
      "32\n",
      "34\n",
      "35\n",
      "37\n",
      "38\n",
      "40\n",
      "41\n",
      "43\n",
      "44\n",
      "46\n",
      "47\n",
      "49\n",
      "50\n"
     ]
    }
   ],
   "source": [
    "# 2\n",
    "for num in range(1, 51):\n",
    "    if num % 3 == 0:\n",
    "        continue \n",
    "    print(num)"
   ]
  },
  {
   "cell_type": "markdown",
   "id": "f881254a-ccab-4075-b5da-98ebd657f1c4",
   "metadata": {},
   "source": [
    "# Review Exercise 5 #"
   ]
  },
  {
   "cell_type": "code",
   "execution_count": 29,
   "id": "95269e9a-4849-4edd-84ad-b05567266371",
   "metadata": {},
   "outputs": [
    {
     "name": "stdin",
     "output_type": "stream",
     "text": [
      "Enter an integer:  ja\n"
     ]
    },
    {
     "name": "stdout",
     "output_type": "stream",
     "text": [
      "Try again! That was not an integer.\n"
     ]
    },
    {
     "name": "stdin",
     "output_type": "stream",
     "text": [
      "Enter an integer:  15\n"
     ]
    },
    {
     "name": "stdout",
     "output_type": "stream",
     "text": [
      "You entered the number: 15\n"
     ]
    }
   ],
   "source": [
    "# 1\n",
    "while True:\n",
    "    try:\n",
    "        num = int(input(\"Enter an integer: \"))\n",
    "        print(f\"You entered the number: {num}\")\n",
    "        break \n",
    "    except ValueError:\n",
    "        print(\"Try again! That was not an integer.\")"
   ]
  },
  {
   "cell_type": "code",
   "execution_count": 33,
   "id": "e53cc749-ef8c-4a05-983f-4e81d6a5af33",
   "metadata": {},
   "outputs": [
    {
     "name": "stdin",
     "output_type": "stream",
     "text": [
      "Enter a string:  John Michael\n",
      "Enter an index (integer):  5\n"
     ]
    },
    {
     "name": "stdout",
     "output_type": "stream",
     "text": [
      "The character at index 5 is 'M'\n"
     ]
    }
   ],
   "source": [
    "# 2\n",
    "string_input = input(\"Enter a string: \")\n",
    "index = int(input(\"Enter an index (integer): \"))\n",
    "\n",
    "if 0 <= index < len(string_input):\n",
    "    print(f\"The character at index {index} is '{string_input[index]}'\")\n",
    "else:\n",
    "    print(\"Index is out of range.\")"
   ]
  },
  {
   "cell_type": "markdown",
   "id": "666f8776-96ca-4e83-b8d4-4cba9276cfd4",
   "metadata": {},
   "source": [
    "# Review Exercise 6 #"
   ]
  },
  {
   "cell_type": "code",
   "execution_count": 35,
   "id": "030da278-34e1-46fe-8186-7f9b51c5381d",
   "metadata": {},
   "outputs": [],
   "source": [
    "#1\n",
    "import random\n",
    "\n",
    "def roll():\n",
    "    return random.randint(1, 6)"
   ]
  },
  {
   "cell_type": "code",
   "execution_count": 37,
   "id": "def873fc-da2a-424a-a187-b6577ce043b7",
   "metadata": {},
   "outputs": [
    {
     "name": "stdout",
     "output_type": "stream",
     "text": [
      "Average roll after 10000 rolls is 3.52\n"
     ]
    }
   ],
   "source": [
    "# 2\n",
    "total_rolls = 10000\n",
    "sum_of_rolls = 0\n",
    "\n",
    "for _ in range(total_rolls):\n",
    "    sum_of_rolls += roll()\n",
    "\n",
    "average_roll = sum_of_rolls / total_rolls\n",
    "print(f\"Average roll after {total_rolls} rolls is {average_roll:.2f}\")\n"
   ]
  },
  {
   "cell_type": "code",
   "execution_count": null,
   "id": "ed92727f-2c89-4812-929e-f5a50feb6b4f",
   "metadata": {},
   "outputs": [],
   "source": []
  }
 ],
 "metadata": {
  "kernelspec": {
   "display_name": "Python 3 (ipykernel)",
   "language": "python",
   "name": "python3"
  },
  "language_info": {
   "codemirror_mode": {
    "name": "ipython",
    "version": 3
   },
   "file_extension": ".py",
   "mimetype": "text/x-python",
   "name": "python",
   "nbconvert_exporter": "python",
   "pygments_lexer": "ipython3",
   "version": "3.13.5"
  }
 },
 "nbformat": 4,
 "nbformat_minor": 5
}
