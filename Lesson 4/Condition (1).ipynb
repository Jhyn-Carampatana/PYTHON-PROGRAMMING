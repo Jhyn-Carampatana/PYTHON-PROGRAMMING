{
 "cells": [
  {
   "cell_type": "markdown",
   "id": "1eac7a6c-9de2-492f-a5fd-413b314e83a6",
   "metadata": {},
   "source": [
    "# REVIEW EXERCISES 1 #"
   ]
  },
  {
   "cell_type": "code",
   "execution_count": 1,
   "id": "aabe4047-8ee9-4082-bcd5-c65ad9fd8735",
   "metadata": {},
   "outputs": [
    {
     "name": "stdout",
     "output_type": "stream",
     "text": [
      "1 <= 1: True\n",
      "1 != 1: False\n",
      "1 != 2: True\n",
      "\"good\" != \"bad\": True\n",
      "\"good\" != \"Good\": True\n",
      "123 == \"123\": False\n"
     ]
    }
   ],
   "source": [
    "# 1\n",
    "print(\"1 <= 1:\", 1 <= 1)               \n",
    "print(\"1 != 1:\", 1 != 1)                 \n",
    "print(\"1 != 2:\", 1 != 2)                 \n",
    "print('\"good\" != \"bad\":', \"good\" != \"bad\")   \n",
    "print('\"good\" != \"Good\":', \"good\" != \"Good\")\n",
    "print('123 == \"123\":', 123 == \"123\")     "
   ]
  },
  {
   "cell_type": "code",
   "execution_count": 2,
   "id": "493072b6-7ff6-48f1-87fa-d938142374a1",
   "metadata": {},
   "outputs": [
    {
     "name": "stdout",
     "output_type": "stream",
     "text": [
      "3 < 4: True\n",
      "10 > 5: True\n",
      "True\n",
      "42 != \"42\": True\n"
     ]
    }
   ],
   "source": [
    "# 2\n",
    "print(\"3 < 4:\", 3 < 4)\n",
    "print(\"10 > 5:\", 10 > 5)\n",
    "print('\"jack != \"jill\":' \"jack\" != \"jill\")\n",
    "print('42 != \"42\":', 42 != \"42\")"
   ]
  },
  {
   "cell_type": "markdown",
   "id": "33eaa763-37c4-457d-b24f-c4b653233daa",
   "metadata": {},
   "source": [
    "# REVIEW EXERCISES 2 #"
   ]
  },
  {
   "cell_type": "code",
   "execution_count": 3,
   "id": "93a3933a-24b0-47c6-af56-7bf6bcef244a",
   "metadata": {},
   "outputs": [
    {
     "name": "stdout",
     "output_type": "stream",
     "text": [
      "(1 <= 1) and (1 != 1): False\n",
      "not (1 != 2): False\n",
      "(\"good\" != \"bad\") or false: True\n",
      "(\"good\" != \"Good\") and not (1 == 1): False\n"
     ]
    }
   ],
   "source": [
    "# 1\n",
    "expr1 = (1 <= 1) and (1 != 1)\n",
    "print (\"(1 <= 1) and (1 != 1):\", expr1)\n",
    "\n",
    "expr2 = not (1 != 2)\n",
    "print (\"not (1 != 2):\", expr2)\n",
    " \n",
    "expr3 = (\"good\" != \"bad\") or False\n",
    "print('(\"good\" != \"bad\") or false:', expr3)\n",
    "\n",
    "expr4 = (\"good\" != \"Good\") and not (1 == 1)\n",
    "print('(\"good\" != \"Good\") and not (1 == 1):', expr4)"
   ]
  },
  {
   "cell_type": "code",
   "execution_count": 4,
   "id": "9eb61877-0a4e-4051-89f4-2a46179bf3a0",
   "metadata": {},
   "outputs": [
    {
     "name": "stdout",
     "output_type": "stream",
     "text": [
      "False == (not True): True\n",
      "(True and False) == (True and False): True\n",
      "(not True) and (\"A\" == \"B\"): False\n",
      "not (True and \"A\" == \"B\"): True\n"
     ]
    }
   ],
   "source": [
    "# 2\n",
    "expr5 = False == (not True)\n",
    "print(\"False == (not True):\", expr5)  \n",
    "\n",
    "expr6 = (True and False) == (True and False)\n",
    "print(\"(True and False) == (True and False):\", expr6)  \n",
    "expr7 = (not True) and (\"A\" == \"B\")\n",
    "print('(not True) and (\"A\" == \"B\"):', expr7) \n",
    "\n",
    "expr7_fixed = not (True and \"A\" == \"B\")\n",
    "print('not (True and \"A\" == \"B\"):', expr7_fixed)  "
   ]
  },
  {
   "cell_type": "markdown",
   "id": "ecb40bde-5010-4b9f-a6d4-4de39a632eed",
   "metadata": {},
   "source": [
    "# REVIEW EXERCISES 3 # "
   ]
  },
  {
   "cell_type": "code",
   "execution_count": 6,
   "id": "1f8dfe8a-66f7-4709-b269-0aa70ddd8169",
   "metadata": {},
   "outputs": [
    {
     "name": "stdin",
     "output_type": "stream",
     "text": [
      "Enter a word:  disney princess\n"
     ]
    },
    {
     "name": "stdout",
     "output_type": "stream",
     "text": [
      "The word has more than 5 characters.\n"
     ]
    }
   ],
   "source": [
    "# 1\n",
    "word = input(\"Enter a word: \")\n",
    "\n",
    "length = len(word)\n",
    "\n",
    "if length < 5:\n",
    "    print(\"The word has less than 5 characters.\")\n",
    "elif length == 5:\n",
    "    print(\"The word has exactly 5 characters.\")\n",
    "else:\n",
    "    print(\"The word has more than 5 characters.\")"
   ]
  },
  {
   "cell_type": "markdown",
   "id": "9b8fe819-b074-40d8-9858-01069b34887f",
   "metadata": {},
   "source": [
    "# REVIEW EXERCISES 4 #"
   ]
  },
  {
   "cell_type": "code",
   "execution_count": 7,
   "id": "7abefe10-bb39-42eb-a6ff-34b08a19a32e",
   "metadata": {},
   "outputs": [
    {
     "name": "stdin",
     "output_type": "stream",
     "text": [
      "Enter something (or 'Q' to quit):  Jhyn \n"
     ]
    },
    {
     "name": "stdout",
     "output_type": "stream",
     "text": [
      "You entered: Jhyn \n"
     ]
    },
    {
     "name": "stdin",
     "output_type": "stream",
     "text": [
      "Enter something (or 'Q' to quit):  q\n"
     ]
    },
    {
     "name": "stdout",
     "output_type": "stream",
     "text": [
      "Quitting program...\n"
     ]
    }
   ],
   "source": [
    "# 1\n",
    "while True:\n",
    "    user_input = input(\"Enter something (or 'Q' to quit): \")\n",
    "    if user_input.upper() == 'Q':\n",
    "        print(\"Quitting program...\")\n",
    "        break\n",
    "    else:\n",
    "        print(f\"You entered: {user_input}\")"
   ]
  },
  {
   "cell_type": "code",
   "execution_count": 8,
   "id": "14abccf5-736e-40f2-843d-592244e5ecdb",
   "metadata": {},
   "outputs": [
    {
     "name": "stdout",
     "output_type": "stream",
     "text": [
      "1\n",
      "2\n",
      "4\n",
      "5\n",
      "7\n",
      "8\n",
      "10\n",
      "11\n",
      "13\n",
      "14\n",
      "16\n",
      "17\n",
      "19\n",
      "20\n",
      "22\n",
      "23\n",
      "25\n",
      "26\n",
      "28\n",
      "29\n",
      "31\n",
      "32\n",
      "34\n",
      "35\n",
      "37\n",
      "38\n",
      "40\n",
      "41\n",
      "43\n",
      "44\n",
      "46\n",
      "47\n",
      "49\n",
      "50\n"
     ]
    }
   ],
   "source": [
    "# 2\n",
    "for num in range(1, 51):\n",
    "    if num % 3 == 0:\n",
    "        continue \n",
    "    print(num)"
   ]
  },
  {
   "cell_type": "markdown",
   "id": "3fb180cb-fd05-48ae-ba47-b307e443de4c",
   "metadata": {},
   "source": [
    "# REVIEW EXERCISES 5 #"
   ]
  },
  {
   "cell_type": "code",
   "execution_count": 10,
   "id": "4381863c-c88c-4f0f-9af2-e9b3659e2582",
   "metadata": {},
   "outputs": [
    {
     "name": "stdin",
     "output_type": "stream",
     "text": [
      "Enter an integer:  JHYN\n"
     ]
    },
    {
     "name": "stdout",
     "output_type": "stream",
     "text": [
      "Try again! That was not an integer.\n"
     ]
    },
    {
     "name": "stdin",
     "output_type": "stream",
     "text": [
      "Enter an integer:  100\n"
     ]
    },
    {
     "name": "stdout",
     "output_type": "stream",
     "text": [
      "You entered the number: 100\n"
     ]
    }
   ],
   "source": [
    "# 1\n",
    "while True:\n",
    "    try:\n",
    "        num = int(input(\"Enter an integer: \"))\n",
    "        print(f\"You entered the number: {num}\")\n",
    "        break \n",
    "    except ValueError:\n",
    "        print(\"Try again! That was not an integer.\")"
   ]
  },
  {
   "cell_type": "code",
   "execution_count": 11,
   "id": "801aff94-8fe2-4084-b454-d82865b0c6f6",
   "metadata": {},
   "outputs": [
    {
     "name": "stdin",
     "output_type": "stream",
     "text": [
      "Enter a string:  jhyn\n",
      "Enter an index (integer):  3\n"
     ]
    },
    {
     "name": "stdout",
     "output_type": "stream",
     "text": [
      "The character at index 3 is 'n'\n"
     ]
    }
   ],
   "source": [
    "# 2\n",
    "string_input = input(\"Enter a string: \")\n",
    "index = int(input(\"Enter an index (integer): \"))\n",
    "\n",
    "if 0 <= index < len(string_input):\n",
    "    print(f\"The character at index {index} is '{string_input[index]}'\")\n",
    "else:\n",
    "    print(\"Index is out of range.\")"
   ]
  },
  {
   "cell_type": "markdown",
   "id": "23948849-38ab-47af-9bca-6c76f6e941ed",
   "metadata": {},
   "source": [
    "# REVIEW EXERCISES 6 #"
   ]
  },
  {
   "cell_type": "code",
   "execution_count": 13,
   "id": "1a7a5835-1aa2-4720-ab7c-7da36f4b4a5e",
   "metadata": {},
   "outputs": [
    {
     "name": "stdout",
     "output_type": "stream",
     "text": [
      "You rolled: 5\n"
     ]
    }
   ],
   "source": [
    "import random\n",
    "\n",
    "def roll():\n",
    "    return random.randint(1, 6)\n",
    "\n",
    "print(\"You rolled:\", roll())"
   ]
  },
  {
   "cell_type": "code",
   "execution_count": 14,
   "id": "9395f892-9dee-465a-b66f-60e4396a186c",
   "metadata": {},
   "outputs": [
    {
     "name": "stdout",
     "output_type": "stream",
     "text": [
      "Average roll after 10000 rolls is 3.49\n"
     ]
    }
   ],
   "source": [
    "# 2\n",
    "total_rolls = 10000\n",
    "sum_of_rolls = 0\n",
    "\n",
    "for _ in range(total_rolls):\n",
    "    sum_of_rolls += roll()\n",
    "\n",
    "average_roll = sum_of_rolls / total_rolls\n",
    "print(f\"Average roll after {total_rolls} rolls is {average_roll:.2f}\")"
   ]
  },
  {
   "cell_type": "markdown",
   "id": "27ed7256-cfc4-47bd-8abb-1fc9f26e4a84",
   "metadata": {},
   "source": [
    "# CHALLENGE: SIMULATE AN ELECTION #"
   ]
  },
  {
   "cell_type": "code",
   "execution_count": 16,
   "id": "cdb14a19-81cb-40d5-9e2b-3a890787f559",
   "metadata": {},
   "outputs": [
    {
     "name": "stdout",
     "output_type": "stream",
     "text": [
      "Estimated probability Candidate A wins: 0.6347\n"
     ]
    }
   ],
   "source": [
    "# 1\n",
    "import random\n",
    "\n",
    "def simulate_election(trials=10000):\n",
    "    region_probs = [0.87, 0.65, 0.17]\n",
    "    a_wins = 0\n",
    "\n",
    "    for _ in range(trials):\n",
    "        regions_won = 0\n",
    "        for prob in region_probs:\n",
    "            if random.random() < prob:\n",
    "                regions_won += 1\n",
    "    \n",
    "        if regions_won >= 2:\n",
    "            a_wins += 1\n",
    "\n",
    "    return a_wins / trials\n",
    "\n",
    "print(\"Estimated probability Candidate A wins:\", simulate_election())\n"
   ]
  }
 ],
 "metadata": {
  "kernelspec": {
   "display_name": "Python [conda env:base] *",
   "language": "python",
   "name": "conda-base-py"
  },
  "language_info": {
   "codemirror_mode": {
    "name": "ipython",
    "version": 3
   },
   "file_extension": ".py",
   "mimetype": "text/x-python",
   "name": "python",
   "nbconvert_exporter": "python",
   "pygments_lexer": "ipython3",
   "version": "3.13.5"
  }
 },
 "nbformat": 4,
 "nbformat_minor": 5
}
