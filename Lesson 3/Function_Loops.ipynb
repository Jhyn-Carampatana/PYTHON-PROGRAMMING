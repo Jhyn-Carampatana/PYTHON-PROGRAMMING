{
 "cells": [
  {
   "cell_type": "markdown",
   "id": "cd092d26-1826-4aeb-bc36-6fe572d44104",
   "metadata": {},
   "source": [
    "# Review Question #"
   ]
  },
  {
   "cell_type": "code",
   "execution_count": 1,
   "id": "c4818924-c629-4e76-98f0-0af287059d45",
   "metadata": {},
   "outputs": [
    {
     "name": "stdout",
     "output_type": "stream",
     "text": [
      "8\n",
      "27\n",
      "-64\n",
      "3.375\n"
     ]
    }
   ],
   "source": [
    "#1\n",
    "def cube(number):\n",
    "    return number ** 3\n",
    "\n",
    "\n",
    "print(cube(2))   \n",
    "print(cube(3))    \n",
    "print(cube(-4))   \n",
    "print(cube(1.5))\n"
   ]
  },
  {
   "cell_type": "code",
   "execution_count": 2,
   "id": "e62101c6-b3fd-4f62-bfa7-d12c60ab7ec8",
   "metadata": {},
   "outputs": [
    {
     "name": "stdout",
     "output_type": "stream",
     "text": [
      "Hello Ryu!\n"
     ]
    }
   ],
   "source": [
    "#2\n",
    "def greet(name):\n",
    "    print(f\"Hello {name}!\")\n",
    "greet(\"Ryu\")"
   ]
  },
  {
   "cell_type": "markdown",
   "id": "ea9fd9fd-5444-4a29-bc9d-c00c6cf10f05",
   "metadata": {},
   "source": [
    "# CHALLENGE: CONVERT TEMPERATURES #"
   ]
  },
  {
   "cell_type": "code",
   "execution_count": 3,
   "id": "40d64712-6ae5-4d11-a174-f2ca449c92a2",
   "metadata": {},
   "outputs": [
    {
     "name": "stdout",
     "output_type": "stream",
     "text": [
      "32.0\n",
      "212.0\n",
      "-40.0\n"
     ]
    }
   ],
   "source": [
    "#1\n",
    "def convert_cel_to_far(celsius):\n",
    "    return (celsius * 9/5) + 32\n",
    "\n",
    "print(convert_cel_to_far(0))    \n",
    "print(convert_cel_to_far(100))  \n",
    "print(convert_cel_to_far(-40)) \n"
   ]
  },
  {
   "cell_type": "code",
   "execution_count": 4,
   "id": "0ced71f5-3f21-4ace-adbf-9a9f949c4289",
   "metadata": {},
   "outputs": [
    {
     "name": "stdin",
     "output_type": "stream",
     "text": [
      "Enter a temperature in degrees F:  72\n"
     ]
    },
    {
     "name": "stdout",
     "output_type": "stream",
     "text": [
      "72.0 degrees F = 22.22 degrees C\n",
      "\n"
     ]
    },
    {
     "name": "stdin",
     "output_type": "stream",
     "text": [
      "Enter a temperature in degrees C:  37\n"
     ]
    },
    {
     "name": "stdout",
     "output_type": "stream",
     "text": [
      "37.0 degrees C = 98.60 degrees F\n"
     ]
    }
   ],
   "source": [
    "def convert_far_to_cel(fahrenheit):\n",
    "    return (fahrenheit - 32) * 5 / 9\n",
    "\n",
    "def convert_cel_to_far(celsius):\n",
    "    return (celsius * 9 / 5) + 32\n",
    "\n",
    "\n",
    "f = float(input(\"Enter a temperature in degrees F: \"))\n",
    "c = convert_far_to_cel(f)\n",
    "print(f\"{f} degrees F = {c:.2f} degrees C\\n\")\n",
    "\n",
    "\n",
    "c = float(input(\"Enter a temperature in degrees C: \"))\n",
    "f = convert_cel_to_far(c)\n",
    "print(f\"{c} degrees C = {f:.2f} degrees F\")"
   ]
  },
  {
   "cell_type": "markdown",
   "id": "e2bad904-5098-467d-8741-965d27e00698",
   "metadata": {},
   "source": [
    "# Review Question #"
   ]
  },
  {
   "cell_type": "code",
   "execution_count": 5,
   "id": "b5fe231d-856f-4186-89d1-c5952ecf363d",
   "metadata": {},
   "outputs": [
    {
     "name": "stdout",
     "output_type": "stream",
     "text": [
      "2\n",
      "3\n",
      "4\n",
      "5\n",
      "6\n",
      "7\n",
      "8\n",
      "9\n",
      "10\n"
     ]
    }
   ],
   "source": [
    "#1\n",
    "for i in range(2, 11):\n",
    "    print(i)"
   ]
  },
  {
   "cell_type": "code",
   "execution_count": 6,
   "id": "b82066a0-0416-4f44-8f48-a8c88dc1880d",
   "metadata": {},
   "outputs": [
    {
     "name": "stdout",
     "output_type": "stream",
     "text": [
      "2\n",
      "3\n",
      "4\n",
      "5\n",
      "6\n",
      "7\n",
      "8\n",
      "9\n",
      "10\n"
     ]
    }
   ],
   "source": [
    "#2\n",
    "num = 2\n",
    "while num <= 10:\n",
    "    print(num)\n",
    "    num += 1 \n"
   ]
  },
  {
   "cell_type": "code",
   "execution_count": 7,
   "id": "8be91a8c-fabb-4a6f-bc39-9e24f2b281c3",
   "metadata": {},
   "outputs": [
    {
     "name": "stdout",
     "output_type": "stream",
     "text": [
      "4\n",
      "8\n",
      "16\n"
     ]
    }
   ],
   "source": [
    "#3\n",
    "def doubles(number):\n",
    "    return number * 2\n",
    "\n",
    "num = 2\n",
    "\n",
    "for _ in range(3):\n",
    "    num = doubles(num)\n",
    "    print(num)\n"
   ]
  },
  {
   "cell_type": "code",
   "execution_count": null,
   "id": "f933c599-d5b3-48ba-800a-00675b4695b5",
   "metadata": {},
   "outputs": [],
   "source": []
  }
 ],
 "metadata": {
  "kernelspec": {
   "display_name": "Python 3 (ipykernel)",
   "language": "python",
   "name": "python3"
  },
  "language_info": {
   "codemirror_mode": {
    "name": "ipython",
    "version": 3
   },
   "file_extension": ".py",
   "mimetype": "text/x-python",
   "name": "python",
   "nbconvert_exporter": "python",
   "pygments_lexer": "ipython3",
   "version": "3.13.5"
  }
 },
 "nbformat": 4,
 "nbformat_minor": 5
}
