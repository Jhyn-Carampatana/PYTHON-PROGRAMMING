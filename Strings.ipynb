{
 "cells": [
  {
   "cell_type": "markdown",
   "id": "ad39c5e4-ffb4-4ad0-9a60-a5edfdd41489",
   "metadata": {},
   "source": [
    "# Review Question 1 #\n"
   ]
  },
  {
   "cell_type": "code",
   "execution_count": 1,
   "id": "d4c46942-666e-4d15-9233-91558b77ed8b",
   "metadata": {},
   "outputs": [
    {
     "name": "stdout",
     "output_type": "stream",
     "text": [
      "13\n"
     ]
    }
   ],
   "source": [
    "my_string = \"Hello, World!\"\n",
    "print(len(my_string))"
   ]
  },
  {
   "cell_type": "code",
   "execution_count": 13,
   "id": "4a4a81c4-e743-4eea-b9ca-50d655f2a377",
   "metadata": {},
   "outputs": [
    {
     "name": "stdout",
     "output_type": "stream",
     "text": [
      "Hello World!\n"
     ]
    }
   ],
   "source": [
    "string1 = \"Hello \"\n",
    "string2 = \"World!\"\n",
    "resulting_string = string1 + string2\n",
    "print(resulting_string)"
   ]
  },
  {
   "cell_type": "code",
   "execution_count": 14,
   "id": "b23276c2-947c-4751-8c8a-eb5ee90489c1",
   "metadata": {},
   "outputs": [
    {
     "name": "stdout",
     "output_type": "stream",
     "text": [
      "Hello Jhyn!\n"
     ]
    }
   ],
   "source": [
    "string1 = \"Hello\"\n",
    "string2 = \"Jhyn!\"\n",
    "resulting_string = string1+\" \"+string2\n",
    "print(resulting_string)"
   ]
  },
  {
   "cell_type": "code",
   "execution_count": 2,
   "id": "58719ac6-6063-4542-aa07-7368b9c9161f",
   "metadata": {},
   "outputs": [
    {
     "name": "stdout",
     "output_type": "stream",
     "text": [
      "fox\n"
     ]
    }
   ],
   "source": [
    "sentence = \"The quick brown fox jumped over the lazy dog. #1234567890!\"\n",
    "fox_word = sentence[16:19]\n",
    "print(fox_word)"
   ]
  },
  {
   "cell_type": "markdown",
   "id": "7f6158a5-1ff1-4047-84ba-49c389e84519",
   "metadata": {},
   "source": [
    "# Review Question 2 #"
   ]
  },
  {
   "cell_type": "code",
   "execution_count": 18,
   "id": "b424be38-150e-45ba-9659-1f5cdaff0657",
   "metadata": {},
   "outputs": [
    {
     "name": "stdout",
     "output_type": "stream",
     "text": [
      "animals\n",
      "badger\n",
      "honey bee\n",
      "honeybadger\n"
     ]
    }
   ],
   "source": [
    "strings = [\"Animals\", \"Badger\", \"Honey Bee\", \"Honeybadger\"]\n",
    "for s in strings:\n",
    "    print(s.lower())"
   ]
  },
  {
   "cell_type": "code",
   "execution_count": 19,
   "id": "53d96321-652f-4a7a-b4fd-cb27e46b9c17",
   "metadata": {},
   "outputs": [
    {
     "name": "stdout",
     "output_type": "stream",
     "text": [
      "ANIMALS\n",
      "BADGER\n",
      "HONEY BEE\n",
      "HONEYBADGER\n"
     ]
    }
   ],
   "source": [
    "strings = [\"Animals\", \"Badger\", \"Honey Bee\", \"Honeybadger\"]\n",
    "for s in strings:\n",
    "    print(s.upper())"
   ]
  },
  {
   "cell_type": "code",
   "execution_count": 20,
   "id": "dc804041-6c26-4b56-a6b5-dafb8b8d992f",
   "metadata": {},
   "outputs": [
    {
     "name": "stdout",
     "output_type": "stream",
     "text": [
      "Does 'Becomes' start with 'be'? False\n",
      "Does 'becomes' start with 'be'? True\n"
     ]
    }
   ],
   "source": [
    "string1 = \"Becomes\"\n",
    "string2 = \"becomes\"\n",
    "\n",
    "result1 = string1.startswith(\"be\")\n",
    "result2 = string2.startswith(\"be\")\n",
    "\n",
    "print(f\"Does '{string1}' start with 'be'? {result1}\")\n",
    "print(f\"Does '{string2}' start with 'be'? {result2}\")\n"
   ]
  },
  {
   "cell_type": "code",
   "execution_count": 21,
   "id": "d7869435-633c-4010-9eb0-ce068671dccd",
   "metadata": {},
   "outputs": [
    {
     "name": "stdout",
     "output_type": "stream",
     "text": [
      "Altered string1: 'becomes'\n",
      "Altered string2: 'becomes'\n",
      "Does 'becomes' start with 'be'? True\n",
      "Does 'becomes' start with 'be'? True\n"
     ]
    }
   ],
   "source": [
    "string1 = \"Becomes\"\n",
    "string2 = \"becomes\"\n",
    "\n",
    "altered_string1 = string1.lower()\n",
    "altered_string2 = string2.lower()\n",
    "\n",
    "print(f\"Altered string1: '{altered_string1}'\")\n",
    "print(f\"Altered string2: '{altered_string2}'\")\n",
    "\n",
    "result1 = altered_string1.startswith(\"be\")\n",
    "result2 = altered_string2.startswith(\"be\")\n",
    "print(f\"Does '{altered_string1}' start with 'be'? {result1}\")\n",
    "print(f\"Does '{altered_string2}' start with 'be'? {result2}\")"
   ]
  },
  {
   "cell_type": "markdown",
   "id": "16738f58-682a-47f3-9f44-75213ed82bc8",
   "metadata": {},
   "source": [
    "# Review Question 3 #"
   ]
  },
  {
   "cell_type": "code",
   "execution_count": 22,
   "id": "26d24b25-4f52-4fd8-a1ea-22b2997747f9",
   "metadata": {},
   "outputs": [
    {
     "name": "stdin",
     "output_type": "stream",
     "text": [
      "Please enter something:  Hello\n"
     ]
    },
    {
     "name": "stdout",
     "output_type": "stream",
     "text": [
      "You entered: Hello\n"
     ]
    }
   ],
   "source": [
    "user_input = input(\"Please enter something: \")\n",
    "print(f\"You entered: {user_input}\")"
   ]
  },
  {
   "cell_type": "code",
   "execution_count": 23,
   "id": "bd51de62-88ec-40a5-a487-2111891c1d1a",
   "metadata": {},
   "outputs": [
    {
     "name": "stdin",
     "output_type": "stream",
     "text": [
      "Please enter some text:  Hello\n"
     ]
    },
    {
     "name": "stdout",
     "output_type": "stream",
     "text": [
      "Your input in lowercase: hello\n"
     ]
    }
   ],
   "source": [
    "user_input = input(\"Please enter some text: \")\n",
    "lowercase_text = user_input.lower()\n",
    "print(\"Your input in lowercase:\", lowercase_text)"
   ]
  },
  {
   "cell_type": "code",
   "execution_count": 28,
   "id": "3b2f4400-58da-4dcf-914b-1cdd625670fb",
   "metadata": {},
   "outputs": [
    {
     "name": "stdin",
     "output_type": "stream",
     "text": [
      "Enter something:  programming\n"
     ]
    },
    {
     "name": "stdout",
     "output_type": "stream",
     "text": [
      "Number of characters entered: 11\n"
     ]
    }
   ],
   "source": [
    "user_input = input(\"Enter something: \")\n",
    "num_characters = len(user_input)\n",
    "print(\"Number of characters entered:\", num_characters)"
   ]
  },
  {
   "cell_type": "markdown",
   "id": "5de6fc74-354c-4da2-b769-c0ddca29002f",
   "metadata": {},
   "source": [
    "# Review Question 4 #"
   ]
  },
  {
   "cell_type": "code",
   "execution_count": 30,
   "id": "d5281029-1d24-4546-b0a2-4311a7d124f7",
   "metadata": {},
   "outputs": [
    {
     "name": "stdin",
     "output_type": "stream",
     "text": [
      "Tell me your name:  Jhyn\n"
     ]
    },
    {
     "name": "stdout",
     "output_type": "stream",
     "text": [
      "The first letter of your name is: J\n"
     ]
    }
   ],
   "source": [
    "name = input(\"Tell me your name: \")\n",
    "if name:\n",
    "    first_letter = name[0].upper()\n",
    "    print(\"The first letter of your name is:\", first_letter)\n",
    "else:\n",
    "    print(\"You didn't enter a name.\")\n",
    "    "
   ]
  },
  {
   "cell_type": "markdown",
   "id": "96a8ae9e-4fcc-40ee-9e04-9d60b5ce5272",
   "metadata": {},
   "source": [
    "# Review Question 5 #"
   ]
  },
  {
   "cell_type": "code",
   "execution_count": 31,
   "id": "7bb08235-cc42-4bbc-b156-48bc05310cb3",
   "metadata": {},
   "outputs": [
    {
     "name": "stdout",
     "output_type": "stream",
     "text": [
      "Result of multiplication: 35\n"
     ]
    }
   ],
   "source": [
    "num_str = \"7\"\n",
    "num_int = int(num_str)\n",
    "result = num_int * 5\n",
    "print(\"Result of multiplication:\", result)\n"
   ]
  },
  {
   "cell_type": "code",
   "execution_count": 34,
   "id": "3876c8e8-0a5c-46fd-b09d-1854b8a0f561",
   "metadata": {},
   "outputs": [
    {
     "name": "stdout",
     "output_type": "stream",
     "text": [
      "Result of multiplication: 6.28\n"
     ]
    }
   ],
   "source": [
    "float_str = \"3.14\"\n",
    "num_float = float(float_str)\n",
    "result = num_float * 2\n",
    "print(\"Result of multiplication:\", result)"
   ]
  },
  {
   "cell_type": "code",
   "execution_count": 35,
   "id": "bac0cb91-611c-4e39-8e41-8e14d56a1fb5",
   "metadata": {},
   "outputs": [
    {
     "name": "stdout",
     "output_type": "stream",
     "text": [
      "Age: 21\n"
     ]
    }
   ],
   "source": [
    "my_string = \"Age:\"\n",
    "my_int = 21\n",
    "print(my_string + \" \" + str(my_int))"
   ]
  },
  {
   "cell_type": "code",
   "execution_count": 36,
   "id": "5e227494-48f3-45a8-894f-f762790c74f2",
   "metadata": {},
   "outputs": [
    {
     "name": "stdin",
     "output_type": "stream",
     "text": [
      "Enter the first number:  4\n",
      "Enter the second number:  6\n"
     ]
    },
    {
     "name": "stdout",
     "output_type": "stream",
     "text": [
      "The result of multiplication is: 24.0\n"
     ]
    }
   ],
   "source": [
    "num1 = float(input(\"Enter the first number: \"))\n",
    "num2 = float(input(\"Enter the second number: \"))\n",
    "result = num1 * num2\n",
    "print(\"The result of multiplication is:\", result)"
   ]
  },
  {
   "cell_type": "markdown",
   "id": "4319801b-bbee-4d03-970e-d004299d2e51",
   "metadata": {},
   "source": [
    "# Review Question 6 #"
   ]
  },
  {
   "cell_type": "code",
   "execution_count": 37,
   "id": "4bae5860-24a4-4d1f-badb-de4cd7f6ff71",
   "metadata": {},
   "outputs": [
    {
     "name": "stdout",
     "output_type": "stream",
     "text": [
      "-1\n"
     ]
    }
   ],
   "source": [
    "print(\"AAA\".find(\"a\"))"
   ]
  },
  {
   "cell_type": "code",
   "execution_count": 45,
   "id": "8b88a119-50cd-4f09-acb6-aa69bf50bf33",
   "metadata": {},
   "outputs": [
    {
     "name": "stdout",
     "output_type": "stream",
     "text": [
      "somebody said something to samantha.\n"
     ]
    }
   ],
   "source": [
    "text = \"Somebody said something to Samantha.\"\n",
    "modified_text = text.lower()\n",
    "text = text.replace(\"s\",\"y\")\n",
    "print(modified_text)"
   ]
  },
  {
   "cell_type": "code",
   "execution_count": 46,
   "id": "fc53faa4-197e-431b-8af4-c3b0bf64bdf5",
   "metadata": {},
   "outputs": [
    {
     "name": "stdin",
     "output_type": "stream",
     "text": [
      "Enter a string:  programming\n",
      "Enter a letter to find:  i\n"
     ]
    },
    {
     "name": "stdout",
     "output_type": "stream",
     "text": [
      "The letter 'i' was found at position 8.\n"
     ]
    }
   ],
   "source": [
    "user_string = input(\"Enter a string: \")\n",
    "letter = input(\"Enter a letter to find: \")\n",
    "position = user_string.find(letter)\n",
    "if position != -1:\n",
    "    print(f\"The letter '{letter}' was found at position {position}.\")\n",
    "else:\n",
    "    print(f\"The letter '{letter}' was not found in the string.\")"
   ]
  },
  {
   "cell_type": "markdown",
   "id": "543cf6e6-7ff3-4eda-bb40-25736bc3caf5",
   "metadata": {},
   "source": [
    "# Review Question 7 #"
   ]
  },
  {
   "cell_type": "code",
   "execution_count": 47,
   "id": "5e46faa0-e2b7-41b3-8ecd-4591a9da4028",
   "metadata": {},
   "outputs": [
    {
     "name": "stdin",
     "output_type": "stream",
     "text": [
      "Enter some text:  Python Programming\n"
     ]
    },
    {
     "name": "stdout",
     "output_type": "stream",
     "text": [
      "py7h0n pr0gr4mming\n"
     ]
    }
   ],
   "source": [
    "text = input(\"Enter some text: \")\n",
    "text = text.lower()\n",
    "text = text.replace('a', '4')\n",
    "text = text.replace('b', '8')\n",
    "text = text.replace('e', '3')\n",
    "text = text.replace('l', '1')\n",
    "text = text.replace('o', '0')\n",
    "text = text.replace('s', '5')\n",
    "text = text.replace('t', '7')\n",
    "print(text)"
   ]
  },
  {
   "cell_type": "code",
   "execution_count": null,
   "id": "cb0cc9f5-fef9-4252-9eee-b2cb587a548d",
   "metadata": {},
   "outputs": [],
   "source": []
  }
 ],
 "metadata": {
  "kernelspec": {
   "display_name": "Python 3 (ipykernel)",
   "language": "python",
   "name": "python3"
  },
  "language_info": {
   "codemirror_mode": {
    "name": "ipython",
    "version": 3
   },
   "file_extension": ".py",
   "mimetype": "text/x-python",
   "name": "python",
   "nbconvert_exporter": "python",
   "pygments_lexer": "ipython3",
   "version": "3.13.5"
  }
 },
 "nbformat": 4,
 "nbformat_minor": 5
}
